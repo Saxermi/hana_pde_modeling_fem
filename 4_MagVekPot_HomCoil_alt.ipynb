{
 "cells": [
  {
   "cell_type": "code",
   "execution_count": 1,
   "metadata": {},
   "outputs": [
    {
     "name": "stdout",
     "output_type": "stream",
     "text": [
      "optfile ./ng.opt does not exist - using default values\n",
      "togl-version : 2\n",
      "OCC module loaded\n",
      "loading ngsolve library\n",
      "NGSolve-6.2.2406\n",
      "Using Lapack\n",
      "Including sparse direct solver UMFPACK\n",
      "Running parallel using 16 thread(s)\n"
     ]
    }
   ],
   "source": [
    "from ngsolve import *\n",
    "from ngsolve import Draw, curl, grad, sqrt, x, y, z\n",
    "from netgen.occ import *\n",
    "from netgen.gui import *\n",
    "from coil_geometry import *\n",
    "from ngsolve import *\n",
    "from ngsolve import x, y, z, sqrt\n",
    "from math import pi"
   ]
  },
  {
   "cell_type": "code",
   "execution_count": 2,
   "metadata": {},
   "outputs": [],
   "source": [
    "nwindings = 6  # Number of windings\n",
    "wireradius = 0.001  # Radius of the wire\n",
    "coilradius = 0.01  # Radius of the coil\n",
    "\n",
    "# Geometrie laden\n",
    "geo = create_homo_geometry(nwindings, wireradius, coilradius)"
   ]
  },
  {
   "cell_type": "code",
   "execution_count": 3,
   "metadata": {},
   "outputs": [],
   "source": [
    "Draw(geo)"
   ]
  },
  {
   "cell_type": "code",
   "execution_count": 4,
   "metadata": {},
   "outputs": [
    {
     "name": "stdout",
     "output_type": "stream",
     "text": [
      " Face 1 / 10 (parameter space projection)\n",
      " Face 2 / 10 (parameter space projection)\n",
      " Face 3 / 10 (parameter space projection)\n",
      " Face 4 / 10 (parameter space projection)\n",
      " Face 5 / 10 (parameter space projection)\n",
      " Face 6 / 10 (parameter space projection)\n",
      " Face 7 / 10 (parameter space projection)\n",
      " Face 8 / 10 (parameter space projection)\n",
      " Face 9 / 10 (parameter space projection)\n",
      " Face 10 / 10 (parameter space projection)\n",
      " Delaunay meshing\n",
      " Remove Illegal Elements\n",
      " Delaunay meshing\n",
      " start tetmeshing\n",
      " Success !\n",
      " Volume Optimization\n",
      " Curve elements, order = 1\n"
     ]
    },
    {
     "data": {
      "text/plain": [
       "<ngsolve.comp.Mesh at 0x719f94a66c50>"
      ]
     },
     "execution_count": 4,
     "metadata": {},
     "output_type": "execute_result"
    }
   ],
   "source": [
    "mesh = Mesh(\n",
    "    geo.GenerateMesh()\n",
    ")\n",
    "mesh.Curve(1) "
   ]
  },
  {
   "cell_type": "code",
   "execution_count": 5,
   "metadata": {},
   "outputs": [
    {
     "data": {
      "text/plain": [
       "('default',\n",
       " 'default',\n",
       " 'default',\n",
       " 'default',\n",
       " 'outer',\n",
       " 'outer',\n",
       " 'outer',\n",
       " 'outer',\n",
       " 'outer',\n",
       " 'outer')"
      ]
     },
     "execution_count": 5,
     "metadata": {},
     "output_type": "execute_result"
    }
   ],
   "source": [
    "mesh.GetBoundaries()"
   ]
  },
  {
   "cell_type": "code",
   "execution_count": 6,
   "metadata": {},
   "outputs": [],
   "source": [
    "# Konstanten\n",
    "\n",
    "mu = 4 * pi * 1e-7  # Magnetische Feldkonstante (S.2)\n",
    "sigma_coil = 5.87e7  # Leitfähigkeit Kupfer (S.11)\n",
    "sigma_air = 0 # Leitfähigkeit Luft\n",
    "k_reg = 1e-5  # Regularisierungsterm\n",
    "\n",
    "# Geometrische Parameter\n",
    "i_c = 500 \n",
    "A_c = pi * wireradius**2  \n",
    "\n",
    "# Radius in xy-Ebene, +1e-30 vermeidet Division durch 0\n",
    "r = sqrt(x**2 + y**2) + 1e-30\n",
    "# Stromdichte j_c gemäß Aufgabenstellung\n",
    "j_c = CoefficientFunction(\n",
    "    ((nwindings * i_c / A_c) * (y / r), -(nwindings * i_c / A_c) * (x / r), 0)\n",
    ")"
   ]
  },
  {
   "cell_type": "code",
   "execution_count": 7,
   "metadata": {},
   "outputs": [
    {
     "name": "stdout",
     "output_type": "stream",
     "text": [
      "Matrix size A: 211873 x 211873\n",
      "Vector size f: 211873\n"
     ]
    }
   ],
   "source": [
    "# H(curl)-Raum definieren\n",
    "order = 2\n",
    "V = HCurl(\n",
    "    mesh, order=order, nograds=True, dirichlet=\"outer\"  # Dirichlet-Rand auf \"outer\"\n",
    ")\n",
    "u, v = V.TnT()\n",
    "gfA = GridFunction(V)\n",
    "\n",
    "\n",
    "# Bilinearform und Linearform\n",
    "a = BilinearForm(V, symmetric=True)\n",
    "# (1/mu) * (curl(u), curl(v))\n",
    "a += (1 / mu) * InnerProduct(curl(u), curl(v)) * dx\n",
    "# Regularisierung\n",
    "a += k_reg * InnerProduct(u, v) * dx\n",
    "\n",
    "\n",
    "# Preconditioner\n",
    "\n",
    "# Linearform: Stromdichte\n",
    "\n",
    "f = LinearForm(V)\n",
    "\n",
    "# WICHTIG: die Stromdichte nur in Subdomain \"coil\"\n",
    "# -> dx(\"coil\")\n",
    "f += InnerProduct(j_c, v) * dx(\"coil\")\n",
    "\n",
    "# Assemble\n",
    "#with TaskManager():\n",
    "a.Assemble()\n",
    "f.Assemble()\n",
    "\n",
    "print(f\"Matrix size A: {a.mat.height} x {a.mat.width}\")\n",
    "print(f\"Vector size f: {f.vec.size}\")\n",
    "#print(f\"Präkonditionierer-Matrixgröße: {pre.mat.height} x {pre.mat.width}\")"
   ]
  },
  {
   "cell_type": "code",
   "execution_count": 8,
   "metadata": {},
   "outputs": [
    {
     "name": "stdout",
     "output_type": "stream",
     "text": [
      "Matrix size: 211873 x 211873\n",
      "Vector size: 211873\n"
     ]
    }
   ],
   "source": [
    "print(f\"Matrix size: {a.mat.height} x {a.mat.width}\")\n",
    "print(f\"Vector size: {f.vec.size}\")"
   ]
  },
  {
   "cell_type": "code",
   "execution_count": 8,
   "metadata": {},
   "outputs": [
    {
     "name": "stdout",
     "output_type": "stream",
     "text": [
      "('coil', 'air')\n",
      "('out', 'coilbnd', 'in', 'outer', 'outer', 'outer', 'outer', 'outer', 'outer')\n"
     ]
    }
   ],
   "source": [
    "print(mesh.GetMaterials())  # Gibt die Namen der Subdomains (\"coil\", \"air\") aus\n",
    "print(mesh.GetBoundaries())  # Gibt die Namen der Randbedingungen (\"outer\") aus"
   ]
  },
  {
   "cell_type": "code",
   "execution_count": 9,
   "metadata": {},
   "outputs": [
    {
     "name": "stdout",
     "output_type": "stream",
     "text": [
      "Linearform size: 694234\n"
     ]
    }
   ],
   "source": [
    "print(f\"Linearform size: {f.vec.size}\")"
   ]
  },
  {
   "cell_type": "code",
   "execution_count": 9,
   "metadata": {},
   "outputs": [
    {
     "name": "stdout",
     "output_type": "stream",
     "text": [
      "hcurl smoothingblocks, SmoothingType = 2\n",
      "Präkonditionierer-Matrixgröße: 211873 x 211873\n",
      "0 nan\n"
     ]
    }
   ],
   "source": [
    "# Lösen\n",
    "pre = Preconditioner(\n",
    "    a,\n",
    "    \"multigrid\"\n",
    ")\n",
    "# Update the preconditioner to initialize it\n",
    "pre.Update()\n",
    "\n",
    "print(f\"Präkonditionierer-Matrixgröße: {pre.mat.height} x {pre.mat.width}\")\n",
    "inv = CGSolver(\n",
    "    a.mat, pre.mat, precision=1e-8, maxsteps=200  # statt tol=1e-8\n",
    ")  # statt maxiter=200\n",
    "inv.GetSteps()\n",
    "with TaskManager():\n",
    "    gfA.vec.data = inv * f.vec\n",
    "\n",
    "\n",
    "# Visualisierung\n",
    "Draw(gfA, mesh, \"VectorPotential_A\")\n",
    "Draw(curl(gfA), mesh, \"MagField_B\")"
   ]
  },
  {
   "cell_type": "code",
   "execution_count": 11,
   "metadata": {},
   "outputs": [
    {
     "name": "stdout",
     "output_type": "stream",
     "text": [
      "Solver did not converge: steps=1, residual norm=17006.075648232254\n",
      "Solution norm is invalid or zero\n",
      "Materials in mesh: ('coil', 'air')\n",
      "Boundaries in mesh: ('out', 'coilbnd', 'in', 'outer', 'outer', 'outer', 'outer', 'outer', 'outer')\n",
      "Matrix size: 694234 x 694234\n",
      "Vector size: 694234\n"
     ]
    }
   ],
   "source": [
    "# Calculate the residual manually\n",
    "residual_vec = f.vec - a.mat * gfA.vec\n",
    "residual_norm = residual_vec.Norm()\n",
    "\n",
    "# Check if the solver converged\n",
    "steps = inv.GetSteps()\n",
    "if steps < 200 and residual_norm < 1e-8:\n",
    "    print(f\"Solver converged in {steps} steps with residual norm {residual_norm}\")\n",
    "else:\n",
    "    print(f\"Solver did not converge: steps={steps}, residual norm={residual_norm}\")\n",
    "\n",
    "# Check GridFunction norm\n",
    "solution_norm = gfA.vec.Norm()\n",
    "if solution_norm > 0 and solution_norm < 1e10:  # Arbitrary upper bound for sanity check\n",
    "    print(f\"Solution norm is valid: {solution_norm}\")\n",
    "else:\n",
    "    print(\"Solution norm is invalid or zero\")\n",
    "\n",
    "# Check if mesh materials and boundaries are correct\n",
    "print(\"Materials in mesh:\", mesh.GetMaterials())\n",
    "print(\"Boundaries in mesh:\", mesh.GetBoundaries())\n",
    "\n",
    "# Debug matrix and vector sizes\n",
    "print(f\"Matrix size: {a.mat.height} x {a.mat.width}\")\n",
    "print(f\"Vector size: {f.vec.size}\")"
   ]
  }
 ],
 "metadata": {
  "kernelspec": {
   "display_name": "Python 3",
   "language": "python",
   "name": "python3"
  },
  "language_info": {
   "codemirror_mode": {
    "name": "ipython",
    "version": 3
   },
   "file_extension": ".py",
   "mimetype": "text/x-python",
   "name": "python",
   "nbconvert_exporter": "python",
   "pygments_lexer": "ipython3",
   "version": "3.10.12"
  }
 },
 "nbformat": 4,
 "nbformat_minor": 2
}
