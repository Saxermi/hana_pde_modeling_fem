{
 "cells": [
  {
   "cell_type": "code",
   "execution_count": null,
   "metadata": {},
   "outputs": [
    {
     "name": "stdout",
     "output_type": "stream",
     "text": [
      "optfile ./ng.opt does not exist - using default values\n",
      "togl-version : 2\n",
      "OCC module loaded\n",
      "loading ngsolve library\n",
      "NGSolve-6.2.2406\n",
      "Using Lapack\n",
      "Including sparse direct solver UMFPACK\n",
      "Running parallel using 16 thread(s)\n"
     ]
    },
    {
     "name": "stdout",
     "output_type": "stream",
     "text": [
      " Face 1 / 9 (parameter space projection)\n",
      " Face 2 / 9 (parameter space projection)\n",
      " Face 3 / 9 (parameter space projection)\n",
      " Face 4 / 9 (parameter space projection)\n",
      " Face 5 / 9 (parameter space projection)\n",
      " Face 6 / 9 (parameter space projection)\n",
      " Face 7 / 9 (parameter space projection)\n",
      " Face 8 / 9 (parameter space projection)\n",
      " Face 9 / 9 (parameter space projection)\n",
      " Delaunay meshing\n",
      " Remove Illegal Elements\n",
      " Delaunay meshing\n",
      " start tetmeshing\n",
      " Success !\n",
      " Volume Optimization\n",
      " Meshing done, time = 20.3308 sec\n",
      "ERROR: invalid command name \"NGS_SolvePDE\"\n",
      "errinfo: invalid command name \"NGS_SolvePDE\"\n",
      "    while executing\n",
      "\"NGS_SolvePDE\"\n",
      "    invoked from within\n",
      "\".ngmenu.solve invoke \"Solve PDE\"\"\n",
      "    invoked from within\n",
      "\".bubar.solve invoke \"\n",
      "    invoked from within\n",
      "\".bubar.solve instate !disabled { .bubar.solve invoke } \"\n",
      "    invoked from within\n",
      "\".bubar.solve instate pressed { .bubar.solve state !pressed; .bubar.solve instate !disabled { .bubar.solve invoke } } \"\n",
      "    (command bound to event)\n",
      "Thank you for using NGSolve\n"
     ]
    }
   ],
   "source": [
    "from ngsolve import *\n",
    "from netgen.occ import *\n",
    "from ngsolve import Draw\n",
    "from netgen.gui import *\n",
    "\n",
    "import math\n",
    "\n",
    "# Parameters\n",
    "nwindings = 6  # Number of windings\n",
    "wireradius = 0.001  # Radius of the wire\n",
    "coilheight = nwindings * (2 * wireradius) * 1.2  # Length of the coil\n",
    "coilradius = 0.01  # Radius of the coil\n",
    "airh = 10 * coilradius  # Dimension of the surrounding air\n",
    "\n",
    "# Create the cylinder face for the helix path\n",
    "cyl = Cylinder((0, 0, -coilheight / 2), Z, r=coilradius, h=coilheight).faces[0]\n",
    "\n",
    "# Create the helical edge\n",
    "heli = Edge(Segment((0, 0), (nwindings * 2 * math.pi, coilheight)), cyl)\n",
    "\n",
    "# Get start and end points and tangents (optional, can be used for further modifications)\n",
    "ps = heli.start\n",
    "vs = heli.start_tangent\n",
    "pe = heli.end\n",
    "ve = heli.end_tangent\n",
    "\n",
    "# Create the helical wire and circular face for the coil cross-section\n",
    "spiral = Wire([heli])\n",
    "circ = Face(Wire([Circle(ps, Y, wireradius)]))\n",
    "\n",
    "# Generate the coil by sweeping the circular face along the helical wire\n",
    "coil = Pipe(spiral, circ)\n",
    "\n",
    "# Set mesh size and names for the coil faces\n",
    "coil.faces.maxh = 0.2\n",
    "coil.faces.name = \"coilbnd\"\n",
    "coil.faces.Max(Z).name = \"in\"\n",
    "coil.faces.Min(Z).name = \"out\"\n",
    "coil.mat(\"coil\")\n",
    "\n",
    "# Calculate cross-sectional area (optional)\n",
    "crosssection = coil.faces.Max(Z).mass\n",
    "\n",
    "# Create the surrounding air box and subtract the coil\n",
    "box = Box((-airh / 2, -airh / 2, -airh / 2), (airh / 2, airh / 2, airh / 2))\n",
    "box.faces.name = \"outer\"\n",
    "air = box - coil\n",
    "air.mat(\"air\")\n",
    "\n",
    "# Combine the coil and air into a single geometry\n",
    "geo = OCCGeometry(Glue([coil, air]))\n",
    "\n",
    "# Display the geometry\n",
    "Draw(geo)"
   ]
  }
 ],
 "metadata": {
  "kernelspec": {
   "display_name": "Python 3",
   "language": "python",
   "name": "python3"
  },
  "language_info": {
   "codemirror_mode": {
    "name": "ipython",
    "version": 3
   },
   "file_extension": ".py",
   "mimetype": "text/x-python",
   "name": "python",
   "nbconvert_exporter": "python",
   "pygments_lexer": "ipython3",
   "version": "3.10.12"
  }
 },
 "nbformat": 4,
 "nbformat_minor": 2
}
