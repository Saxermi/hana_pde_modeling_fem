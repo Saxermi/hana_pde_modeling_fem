{
 "cells": [
  {
   "cell_type": "code",
   "execution_count": 8,
   "metadata": {},
   "outputs": [],
   "source": [
    "from ngsolve import *\n",
    "from netgen.occ import *\n",
    "from ngsolve import Draw\n",
    "from netgen.gui import *\n",
    "\n",
    "import math\n",
    "\n",
    "# Parameters\n",
    "nwindings = 6  # Number of windings\n",
    "wireradius = 0.001  # Radius of the wire\n",
    "coilheight = nwindings * (2 * wireradius) * 1.2  # Length of the coil\n",
    "coilradius = 0.01  # Radius of the coil\n",
    "airh = 10 * coilradius  # Dimension of the surrounding air\n",
    "\n",
    "# Create the cylinder face for the helix path\n",
    "cyl = Cylinder((0, 0, -coilheight / 2), Z, r=coilradius, h=coilheight).faces[0]\n",
    "\n",
    "# Create the helical edge\n",
    "heli = Edge(Segment((0, 0), (nwindings * 2 * math.pi, coilheight)), cyl)\n",
    "\n",
    "# Get start and end points and tangents (optional, can be used for further modifications)\n",
    "ps = heli.start\n",
    "vs = heli.start_tangent\n",
    "pe = heli.end\n",
    "ve = heli.end_tangent\n",
    "\n",
    "# Create the helical wire and circular face for the coil cross-section\n",
    "spiral = Wire([heli])\n",
    "circ = Face(Wire([Circle(ps, Y, wireradius)]))\n",
    "\n",
    "# Generate the coil by sweeping the circular face along the helical wire\n",
    "coil = Pipe(spiral, circ)\n",
    "\n",
    "# Set mesh size and names for the coil faces\n",
    "coil.faces.maxh = 0.2\n",
    "coil.faces.name = \"coilbnd\"\n",
    "coil.faces.Max(Z).name = \"in\"\n",
    "coil.faces.Min(Z).name = \"out\"\n",
    "coil.mat(\"coil\")\n",
    "\n",
    "# Calculate cross-sectional area (optional)\n",
    "crosssection = coil.faces.Max(Z).mass\n",
    "\n",
    "# Create the surrounding air box and subtract the coil\n",
    "box = Box((-airh / 2, -airh / 2, -airh / 2), (airh / 2, airh / 2, airh / 2))\n",
    "box.faces.name = \"outer\"\n",
    "air = box - coil\n",
    "air.mat(\"air\")\n",
    "\n",
    "# Combine the coil and air into a single geometry\n",
    "geo = OCCGeometry(Glue([coil, air]))\n",
    "\n",
    "# Display the geometry\n",
    "Draw(geo)"
   ]
  },
  {
   "cell_type": "markdown",
   "metadata": {},
   "source": [
    "specifying material "
   ]
  },
  {
   "cell_type": "code",
   "execution_count": 21,
   "metadata": {},
   "outputs": [
    {
     "name": "stdout",
     "output_type": "stream",
     "text": [
      "done\n"
     ]
    }
   ],
   "source": [
    "coil_sigma = 5.96e7  # Leitfähigkeit der Spule (z. B. Kupfer)\n",
    "air_sigma = 0#1e-15  # Sehr geringe Leitfähigkeit für Luft\n",
    "print(\"done\")"
   ]
  },
  {
   "cell_type": "markdown",
   "metadata": {},
   "source": [
    "creating mesh"
   ]
  },
  {
   "cell_type": "code",
   "execution_count": 22,
   "metadata": {},
   "outputs": [
    {
     "name": "stdout",
     "output_type": "stream",
     "text": [
      " Face 1 / 9 (parameter space projection)\n",
      " Face 2 / 9 (parameter space projection)\n",
      " Face 3 / 9 (parameter space projection)\n",
      " Face 4 / 9 (parameter space projection)\n",
      " Face 5 / 9 (parameter space projection)\n",
      " Face 6 / 9 (parameter space projection)\n",
      " Face 7 / 9 (parameter space projection)\n",
      " Face 8 / 9 (parameter space projection)\n",
      " Face 9 / 9 (parameter space projection)\n",
      " Delaunay meshing\n",
      " Remove Illegal Elements\n",
      " Delaunay meshing\n",
      " start tetmeshing\n",
      " Success !\n",
      " Volume Optimization\n",
      " Curve elements, order = 1\n"
     ]
    },
    {
     "data": {
      "text/plain": [
       "<ngsolve.comp.Mesh at 0x7fb4c2168bd0>"
      ]
     },
     "execution_count": 22,
     "metadata": {},
     "output_type": "execute_result"
    }
   ],
   "source": [
    "mesh = Mesh(\n",
    "    geo.GenerateMesh(maxh= 1.5* wireradius )#/ 2)\n",
    ")  # Verfeinerung für höhere Genauigkeit\n",
    "mesh.Curve(1)  "
   ]
  },
  {
   "cell_type": "code",
   "execution_count": 12,
   "metadata": {},
   "outputs": [
    {
     "data": {
      "text/plain": [
       "('out', 'coilbnd', 'in', 'outer', 'outer', 'outer', 'outer', 'outer', 'outer')"
      ]
     },
     "execution_count": 12,
     "metadata": {},
     "output_type": "execute_result"
    }
   ],
   "source": [
    "mesh.GetBoundaries()"
   ]
  },
  {
   "cell_type": "code",
   "execution_count": 13,
   "metadata": {},
   "outputs": [
    {
     "name": "stdout",
     "output_type": "stream",
     "text": [
      "Measure of 'in' boundary: 3.02070061020265e-06\n",
      "Measure of 'out' boundary: 3.02070060971233e-06\n"
     ]
    }
   ],
   "source": [
    "print(\"Measure of 'in' boundary:\", Integrate(1, mesh, definedon=mesh.Boundaries(\"in\")))\n",
    "print(\n",
    "    \"Measure of 'out' boundary:\", Integrate(1, mesh, definedon=mesh.Boundaries(\"out\"))\n",
    ")"
   ]
  },
  {
   "cell_type": "code",
   "execution_count": null,
   "metadata": {},
   "outputs": [],
   "source": [
    "from netgen.meshing import MeshingParameters\n",
    "\n",
    "# Save the mesh to a Netgen format (.vol or .neutral)\n",
    "import netgen.meshing as ngm\n",
    "\n",
    "ngmesh = mesh.ngmesh\n",
    "ngmesh.Save(\"saved_mesh_small.vol\")"
   ]
  },
  {
   "cell_type": "code",
   "execution_count": 2,
   "metadata": {},
   "outputs": [],
   "source": [
    "from ngsolve import Mesh\n",
    "from netgen.csg import *\n",
    "from netgen.meshing import Mesh as NGMesh\n",
    "\n",
    "# Load the mesh from the file\n",
    "ngmesh = NGMesh()\n",
    "ngmesh.Load(\"saved_mesh.vol\")\n",
    "\n",
    "# Convert to NGSolve mesh\n",
    "mesh = Mesh(ngmesh)"
   ]
  },
  {
   "cell_type": "code",
   "execution_count": 23,
   "metadata": {},
   "outputs": [],
   "source": [
    "fes = H1(mesh, order=1, definedon=mesh.Materials('coil'),dirichlet=mesh.Boundaries('out'))  # Ansatzraum für das Potential\n",
    "phi = fes.TrialFunction()  # Trial-Funktion\n",
    "v = fes.TestFunction()  # Test-Funktion\n",
    "\n",
    "sigma = CoefficientFunction(\n",
    "    [coil_sigma if mat == \"coil\" else air_sigma for mat in mesh.GetMaterials()]\n",
    ")\n",
    "\n",
    "a = BilinearForm(fes)\n",
    "a += SymbolicBFI(sigma * grad(phi) * grad(v))\n",
    "\n",
    "# Rechte Seite (Randbedingungen)\n",
    "f = LinearForm(fes)\n",
    "f += SymbolicLFI(500 / crosssection * v, definedon=mesh.Boundaries(\"in\"))"
   ]
  },
  {
   "cell_type": "code",
   "execution_count": 24,
   "metadata": {},
   "outputs": [],
   "source": [
    "gfu = GridFunction(fes)\n",
    "\n",
    "# Dirichlet-Bedingung auf der äußeren Grenze\n",
    "gfu.Set(0, definedon=mesh.Boundaries(\"outer\"))\n",
    "\n",
    "a.Assemble()\n",
    "f.Assemble()\n",
    "\n",
    "gfu.vec.data = a.mat.Inverse(fes.FreeDofs()) * f.vec\n",
    "Draw(gfu, mesh, \"Potential\")"
   ]
  },
  {
   "cell_type": "code",
   "execution_count": 25,
   "metadata": {},
   "outputs": [],
   "source": [
    "j_c = -sigma * grad(gfu)\n",
    "Draw(j_c, mesh, \"Stromdichte\")"
   ]
  },
  {
   "cell_type": "code",
   "execution_count": 26,
   "metadata": {},
   "outputs": [
    {
     "name": "stdout",
     "output_type": "stream",
     "text": [
      "Spannungsabfall: 0.9591473896159529\n"
     ]
    }
   ],
   "source": [
    "potential_in = 1/crosssection * Integrate(gfu, mesh, definedon=mesh.Boundaries(\"in\"))\n",
    "potential_out = 1/crosssection* Integrate(gfu, mesh, definedon=mesh.Boundaries(\"out\"))\n",
    "spannungsabfall = potential_in - potential_out\n",
    "\n",
    "print(\"Spannungsabfall:\", spannungsabfall)"
   ]
  }
 ],
 "metadata": {
  "kernelspec": {
   "display_name": "Python 3",
   "language": "python",
   "name": "python3"
  },
  "language_info": {
   "codemirror_mode": {
    "name": "ipython",
    "version": 3
   },
   "file_extension": ".py",
   "mimetype": "text/x-python",
   "name": "python",
   "nbconvert_exporter": "python",
   "pygments_lexer": "ipython3",
   "version": "3.10.12"
  }
 },
 "nbformat": 4,
 "nbformat_minor": 2
}
