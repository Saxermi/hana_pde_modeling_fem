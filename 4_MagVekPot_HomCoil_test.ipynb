{
 "cells": [
  {
   "cell_type": "code",
   "execution_count": 1,
   "metadata": {},
   "outputs": [
    {
     "name": "stdout",
     "output_type": "stream",
     "text": [
      "optfile ./ng.opt does not exist - using default values\n",
      "togl-version : 2\n",
      "OCC module loaded\n",
      "loading ngsolve library\n",
      "NGSolve-6.2.2406\n",
      "Using Lapack\n",
      "Including sparse direct solver UMFPACK\n",
      "Running parallel using 16 thread(s)\n"
     ]
    }
   ],
   "source": [
    "from ngsolve import *\n",
    "from ngsolve import Draw, curl, grad\n",
    "from netgen.occ import *\n",
    "from netgen.gui import *\n",
    "from coil_geometry import *"
   ]
  },
  {
   "cell_type": "code",
   "execution_count": 2,
   "metadata": {},
   "outputs": [],
   "source": [
    "nwindings = 6  # Number of windings\n",
    "wireradius = 0.001  # Radius of the wire\n",
    "coilradius = 0.01  # Radius of the coil\n",
    "\n",
    "# Geometrie laden\n",
    "geo = create_homo_geometry(nwindings, wireradius, coilradius)"
   ]
  },
  {
   "cell_type": "code",
   "execution_count": 3,
   "metadata": {},
   "outputs": [],
   "source": [
    "Draw(geo)"
   ]
  },
  {
   "cell_type": "code",
   "execution_count": 4,
   "metadata": {},
   "outputs": [
    {
     "name": "stdout",
     "output_type": "stream",
     "text": [
      " Face 1 / 10 (parameter space projection)\n",
      " Face 2 / 10 (parameter space projection)\n",
      " Face 3 / 10 (parameter space projection)\n",
      " Face 4 / 10 (parameter space projection)\n",
      " Face 5 / 10 (parameter space projection)\n",
      " Face 6 / 10 (parameter space projection)\n",
      " Face 7 / 10 (parameter space projection)\n",
      " Face 8 / 10 (parameter space projection)\n",
      " Face 9 / 10 (parameter space projection)\n",
      " Face 10 / 10 (parameter space projection)\n",
      " Delaunay meshing\n",
      " Remove Illegal Elements\n",
      " Delaunay meshing\n",
      " start tetmeshing\n",
      " Success !\n",
      " Volume Optimization\n",
      " Curve elements, order = 1\n"
     ]
    },
    {
     "data": {
      "text/plain": [
       "<ngsolve.comp.Mesh at 0x70fd10fa5350>"
      ]
     },
     "execution_count": 4,
     "metadata": {},
     "output_type": "execute_result"
    }
   ],
   "source": [
    "mesh = Mesh(\n",
    "    geo.GenerateMesh()\n",
    ")\n",
    "mesh.Curve(1) "
   ]
  },
  {
   "cell_type": "code",
   "execution_count": 5,
   "metadata": {},
   "outputs": [
    {
     "data": {
      "text/plain": [
       "('default',\n",
       " 'default',\n",
       " 'default',\n",
       " 'default',\n",
       " 'outer',\n",
       " 'outer',\n",
       " 'outer',\n",
       " 'outer',\n",
       " 'outer',\n",
       " 'outer')"
      ]
     },
     "execution_count": 5,
     "metadata": {},
     "output_type": "execute_result"
    }
   ],
   "source": [
    "mesh.GetBoundaries()"
   ]
  },
  {
   "cell_type": "code",
   "execution_count": 6,
   "metadata": {},
   "outputs": [
    {
     "name": "stdout",
     "output_type": "stream",
     "text": [
      "Materialien im Mesh: ('coil', 'air')\n",
      "Randbedingungen im Mesh: ('default', 'default', 'default', 'default', 'outer', 'outer', 'outer', 'outer', 'outer', 'outer')\n"
     ]
    }
   ],
   "source": [
    "print(\"Materialien im Mesh:\", mesh.GetMaterials())\n",
    "print(\"Randbedingungen im Mesh:\", mesh.GetBoundaries())"
   ]
  },
  {
   "cell_type": "code",
   "execution_count": 20,
   "metadata": {},
   "outputs": [],
   "source": [
    "# Konstanten\n",
    "mu = 4 * pi * 1e-7  # Magnetische Feldkonstante (S.2)\n",
    "sigma_coil = 5.87e7  # Leitfähigkeit Kupfer (S.11)\n",
    "sigma_air = 0 # Leitfähigkeit Luft\n",
    "k = 1e-6  # Regularisierung\n",
    "\n",
    "# Geometrische Parameter\n",
    "i_c = 500 \n",
    "A_c = pi * wireradius**2  \n",
    "r = sqrt(x**2 + y**2 + z**2) + 1e-30\n",
    "\n",
    "# Stromdichte j_c gemäß Aufgabenstellung\n",
    "j_c = CoefficientFunction(\n",
    "    ((nwindings * i_c / A_c) * (y / r), -(nwindings * i_c / A_c) * (x / r), 0)\n",
    ")"
   ]
  },
  {
   "cell_type": "code",
   "execution_count": 23,
   "metadata": {},
   "outputs": [
    {
     "name": "stdout",
     "output_type": "stream",
     "text": [
      "hcurl smoothingblocks, SmoothingType = 2\n",
      "hcurl smoothingblocks, SmoothingType = 2\n",
      "Matrix size: 48023 x 48023\n",
      "Vector size: 48023\n",
      "Präkonditionierer-Matrixgröße: 48023 x 48023\n"
     ]
    },
    {
     "name": "stdout",
     "output_type": "stream",
     "text": [
      "Thank you for using NGSolve\n"
     ]
    }
   ],
   "source": [
    "# H(curl)-Raum definieren\n",
    "order = 2\n",
    "V = HCurl(mesh, order=order-1, nograds=True, dirichlet=\"outer\")\n",
    "u, v = V.TnT()\n",
    "gfA = GridFunction(V)\n",
    "\n",
    "\n",
    "# Bilinearform und Linearform\n",
    "a = BilinearForm(V, symmetric=True)\n",
    "a += (1/mu) * InnerProduct(curl(u), curl(v)) * dx\n",
    "a += k * InnerProduct(u, v) * dx\n",
    "\n",
    "# Preconditioner\n",
    "pre = Preconditioner(a, \"multigrid\")\n",
    "#pre = Preconditioner(a, \"local\")\n",
    "\n",
    "# Linearform: Stromdichte\n",
    "f = LinearForm(V)\n",
    "f += InnerProduct(j_c, v) * dx(\"Coil\")\n",
    "\n",
    "# Assemble\n",
    "with TaskManager():\n",
    "    a.Assemble()\n",
    "    pre.Update()  # <<-- Nicht vergessen!\n",
    "\n",
    "    f.Assemble()\n",
    "\n",
    "print(f\"Matrix size: {a.mat.height} x {a.mat.width}\")\n",
    "print(f\"Vector size: {f.vec.size}\")\n",
    "print(f\"Präkonditionierer-Matrixgröße: {pre.mat.height} x {pre.mat.width}\")"
   ]
  },
  {
   "cell_type": "code",
   "execution_count": 22,
   "metadata": {},
   "outputs": [
    {
     "name": "stdout",
     "output_type": "stream",
     "text": [
      "170985786\n",
      "0 nan\n"
     ]
    }
   ],
   "source": [
    "# Lösen\n",
    "inv = CGSolver(a.mat, pre.mat, maxiter=200)\n",
    "print(inv.GetSteps())\n",
    "\n",
    "with TaskManager():\n",
    "    gfA.vec.data = inv * f.vec\n",
    "\n",
    "# Visualisierung\n",
    "#Draw(curl(gfA), mesh, \"MagneticField\")\n",
    "Draw(gfA, mesh, \"VectorPotential\", draw_surf=True, draw_vol=True)"
   ]
  },
  {
   "cell_type": "code",
   "execution_count": 10,
   "metadata": {},
   "outputs": [
    {
     "name": "stdout",
     "output_type": "stream",
     "text": [
      "Solver did not converge: steps=1, residual norm=23988.73528565578\n",
      "Solution norm is invalid or zero\n",
      "Materials in mesh: ('coil', 'air')\n",
      "Boundaries in mesh: ('default', 'default', 'default', 'default', 'outer', 'outer', 'outer', 'outer', 'outer', 'outer')\n",
      "Matrix size: 48023 x 48023\n",
      "Vector size: 48023\n"
     ]
    }
   ],
   "source": [
    "# Calculate the residual manually\n",
    "residual_vec = f.vec - a.mat * gfA.vec\n",
    "residual_norm = residual_vec.Norm()\n",
    " \n",
    "# Check if the solver converged\n",
    "steps = inv.GetSteps()\n",
    "if steps < 200 and residual_norm < 1e-8:\n",
    "    print(f\"Solver converged in {steps} steps with residual norm {residual_norm}\")\n",
    "else:\n",
    "    print(f\"Solver did not converge: steps={steps}, residual norm={residual_norm}\")\n",
    " \n",
    "# Check GridFunction norm\n",
    "solution_norm = gfA.vec.Norm()\n",
    "if solution_norm > 0 and solution_norm < 1e10:  # Arbitrary upper bound for sanity check\n",
    "    print(f\"Solution norm is valid: {solution_norm}\")\n",
    "else:\n",
    "    print(\"Solution norm is invalid or zero\")\n",
    " \n",
    "# Check if mesh materials and boundaries are correct\n",
    "print(\"Materials in mesh:\", mesh.GetMaterials())\n",
    "print(\"Boundaries in mesh:\", mesh.GetBoundaries())\n",
    " \n",
    "# Debug matrix and vector sizes\n",
    "print(f\"Matrix size: {a.mat.height} x {a.mat.width}\")\n",
    "print(f\"Vector size: {f.vec.size}\")\n",
    " "
   ]
  },
  {
   "cell_type": "code",
   "execution_count": 11,
   "metadata": {},
   "outputs": [],
   "source": [
    "B = curl(gfA)"
   ]
  },
  {
   "cell_type": "code",
   "execution_count": 12,
   "metadata": {},
   "outputs": [
    {
     "ename": "TypeError",
     "evalue": "Draw(): incompatible function arguments. The following argument types are supported:\n    1. (cf: ngsolve.fem.CoefficientFunction, mesh: ngsolve.comp.Mesh, name: str, sd: int = 2, autoscale: bool = True, min: float = 0.0, max: float = 1.0, draw_vol: bool = True, draw_surf: bool = True, reset: bool = False, title: str = '', number_format: str = '%.3e', unit: str = '', **kwargs) -> None\n    2. (gf: ngsolve.comp.GridFunction, sd: int = 2, autoscale: bool = True, min: float = 0.0, max: float = 1.0, **kwargs) -> None\n    3. (mesh: ngsolve.comp.Mesh, **kwargs) -> None\n    4. (arg0: object) -> None\n\nInvoked with: <ngsolve.comp.GridFunctionCoefficientFunction object at 0x70fd10fcc3b0>, <ngsolve.comp.Mesh object at 0x70fd10fa5350>; kwargs: objects=[{'type': 'fieldlines', 'name': 'fieldlines', 'pstart': [], 'pend': [], 'value': [], 'thickness': 0.00013856406460551022}], draw_surf=False, min=0, max=0.1, settings={'Objects': {'Edges': False, 'Surface': True, 'Wireframe': False}}",
     "output_type": "error",
     "traceback": [
      "\u001b[0;31m---------------------------------------------------------------------------\u001b[0m",
      "\u001b[0;31mTypeError\u001b[0m                                 Traceback (most recent call last)",
      "Cell \u001b[0;32mIn[12], line 14\u001b[0m\n\u001b[1;32m      4\u001b[0m XiB, YiB \u001b[38;5;241m=\u001b[39m np\u001b[38;5;241m.\u001b[39mmeshgrid(yiB, yiB)\n\u001b[1;32m      5\u001b[0m fieldlines \u001b[38;5;241m=\u001b[39m B\u001b[38;5;241m.\u001b[39m_BuildFieldLines(\n\u001b[1;32m      6\u001b[0m     mesh,\n\u001b[1;32m      7\u001b[0m     np\u001b[38;5;241m.\u001b[39marray([XiB\u001b[38;5;241m.\u001b[39mflatten(), YiB\u001b[38;5;241m.\u001b[39mflatten(), np\u001b[38;5;241m.\u001b[39mzeros_like(XiB\u001b[38;5;241m.\u001b[39mflatten())])\u001b[38;5;241m.\u001b[39mT,\n\u001b[0;32m   (...)\u001b[0m\n\u001b[1;32m     11\u001b[0m     thickness\u001b[38;5;241m=\u001b[39m\u001b[38;5;241m8e-4\u001b[39m\n\u001b[1;32m     12\u001b[0m )\n\u001b[0;32m---> 14\u001b[0m \u001b[43mDraw\u001b[49m\u001b[43m(\u001b[49m\u001b[43mB\u001b[49m\u001b[43m,\u001b[49m\u001b[43m \u001b[49m\u001b[43mmesh\u001b[49m\u001b[43m,\u001b[49m\u001b[43m \u001b[49m\u001b[43mobjects\u001b[49m\u001b[38;5;241;43m=\u001b[39;49m\u001b[43m[\u001b[49m\u001b[43mfieldlines\u001b[49m\u001b[43m]\u001b[49m\u001b[43m,\u001b[49m\u001b[43m \u001b[49m\u001b[43mdraw_surf\u001b[49m\u001b[38;5;241;43m=\u001b[39;49m\u001b[38;5;28;43;01mFalse\u001b[39;49;00m\u001b[43m,\u001b[49m\u001b[43m \u001b[49m\u001b[38;5;28;43mmin\u001b[39;49m\u001b[38;5;241;43m=\u001b[39;49m\u001b[38;5;241;43m0\u001b[39;49m\u001b[43m,\u001b[49m\u001b[43m \u001b[49m\u001b[38;5;28;43mmax\u001b[39;49m\u001b[38;5;241;43m=\u001b[39;49m\u001b[38;5;241;43m0.1\u001b[39;49m\u001b[43m,\u001b[49m\u001b[43m \u001b[49m\u001b[43msettings\u001b[49m\u001b[38;5;241;43m=\u001b[39;49m\u001b[43m{\u001b[49m\u001b[38;5;124;43m\"\u001b[39;49m\u001b[38;5;124;43mObjects\u001b[39;49m\u001b[38;5;124;43m\"\u001b[39;49m\u001b[43m:\u001b[49m\u001b[43m \u001b[49m\u001b[43m{\u001b[49m\u001b[38;5;124;43m\"\u001b[39;49m\u001b[38;5;124;43mEdges\u001b[39;49m\u001b[38;5;124;43m\"\u001b[39;49m\u001b[43m:\u001b[49m\u001b[43m \u001b[49m\u001b[38;5;28;43;01mFalse\u001b[39;49;00m\u001b[43m,\u001b[49m\u001b[43m \u001b[49m\u001b[38;5;124;43m\"\u001b[39;49m\u001b[38;5;124;43mSurface\u001b[39;49m\u001b[38;5;124;43m\"\u001b[39;49m\u001b[43m:\u001b[49m\u001b[43m \u001b[49m\u001b[38;5;28;43;01mTrue\u001b[39;49;00m\u001b[43m,\u001b[49m\u001b[43m \u001b[49m\u001b[38;5;124;43m\"\u001b[39;49m\u001b[38;5;124;43mWireframe\u001b[39;49m\u001b[38;5;124;43m\"\u001b[39;49m\u001b[43m:\u001b[49m\u001b[43m \u001b[49m\u001b[38;5;28;43;01mFalse\u001b[39;49;00m\u001b[43m}\u001b[49m\u001b[43m}\u001b[49m\u001b[43m)\u001b[49m\n\u001b[1;32m     16\u001b[0m lines \u001b[38;5;241m=\u001b[39m {\n\u001b[1;32m     17\u001b[0m     \u001b[38;5;124m\"\u001b[39m\u001b[38;5;124mtype\u001b[39m\u001b[38;5;124m\"\u001b[39m: \u001b[38;5;124m\"\u001b[39m\u001b[38;5;124mlines\u001b[39m\u001b[38;5;124m\"\u001b[39m,\n\u001b[1;32m     18\u001b[0m     \u001b[38;5;124m\"\u001b[39m\u001b[38;5;124mposition\u001b[39m\u001b[38;5;124m\"\u001b[39m: np\u001b[38;5;241m.\u001b[39marray([[yi[k, :\u001b[38;5;241m3\u001b[39m], yi[k \u001b[38;5;241m+\u001b[39m \u001b[38;5;241m1\u001b[39m, :\u001b[38;5;241m3\u001b[39m]] \u001b[38;5;28;01mfor\u001b[39;00m k \u001b[38;5;129;01min\u001b[39;00m \u001b[38;5;28mrange\u001b[39m(yi\u001b[38;5;241m.\u001b[39mshape[\u001b[38;5;241m0\u001b[39m] \u001b[38;5;241m-\u001b[39m \u001b[38;5;241m1\u001b[39m)])\u001b[38;5;241m.\u001b[39mflatten(),\n\u001b[1;32m     19\u001b[0m     \u001b[38;5;124m\"\u001b[39m\u001b[38;5;124mname\u001b[39m\u001b[38;5;124m\"\u001b[39m: \u001b[38;5;124m\"\u001b[39m\u001b[38;5;124melectron\u001b[39m\u001b[38;5;124m\"\u001b[39m,\n\u001b[1;32m     20\u001b[0m     \u001b[38;5;124m\"\u001b[39m\u001b[38;5;124mcolor\u001b[39m\u001b[38;5;124m\"\u001b[39m: \u001b[38;5;124m\"\u001b[39m\u001b[38;5;124mblue\u001b[39m\u001b[38;5;124m\"\u001b[39m\n\u001b[1;32m     21\u001b[0m }\n\u001b[1;32m     22\u001b[0m lines2 \u001b[38;5;241m=\u001b[39m {\n\u001b[1;32m     23\u001b[0m     \u001b[38;5;124m\"\u001b[39m\u001b[38;5;124mtype\u001b[39m\u001b[38;5;124m\"\u001b[39m: \u001b[38;5;124m\"\u001b[39m\u001b[38;5;124mlines\u001b[39m\u001b[38;5;124m\"\u001b[39m,\n\u001b[1;32m     24\u001b[0m     \u001b[38;5;124m\"\u001b[39m\u001b[38;5;124mposition\u001b[39m\u001b[38;5;124m\"\u001b[39m: np\u001b[38;5;241m.\u001b[39marray([[yi2[k, :\u001b[38;5;241m3\u001b[39m], yi2[k \u001b[38;5;241m+\u001b[39m \u001b[38;5;241m1\u001b[39m, :\u001b[38;5;241m3\u001b[39m]] \u001b[38;5;28;01mfor\u001b[39;00m k \u001b[38;5;129;01min\u001b[39;00m \u001b[38;5;28mrange\u001b[39m(yi2\u001b[38;5;241m.\u001b[39mshape[\u001b[38;5;241m0\u001b[39m] \u001b[38;5;241m-\u001b[39m \u001b[38;5;241m1\u001b[39m)])\u001b[38;5;241m.\u001b[39mflatten(),\n\u001b[1;32m     25\u001b[0m     \u001b[38;5;124m\"\u001b[39m\u001b[38;5;124mname\u001b[39m\u001b[38;5;124m\"\u001b[39m: \u001b[38;5;124m\"\u001b[39m\u001b[38;5;124melectron2\u001b[39m\u001b[38;5;124m\"\u001b[39m,\n\u001b[1;32m     26\u001b[0m     \u001b[38;5;124m\"\u001b[39m\u001b[38;5;124mcolor\u001b[39m\u001b[38;5;124m\"\u001b[39m: \u001b[38;5;124m\"\u001b[39m\u001b[38;5;124morange\u001b[39m\u001b[38;5;124m\"\u001b[39m\n\u001b[1;32m     27\u001b[0m }\n",
      "\u001b[0;31mTypeError\u001b[0m: Draw(): incompatible function arguments. The following argument types are supported:\n    1. (cf: ngsolve.fem.CoefficientFunction, mesh: ngsolve.comp.Mesh, name: str, sd: int = 2, autoscale: bool = True, min: float = 0.0, max: float = 1.0, draw_vol: bool = True, draw_surf: bool = True, reset: bool = False, title: str = '', number_format: str = '%.3e', unit: str = '', **kwargs) -> None\n    2. (gf: ngsolve.comp.GridFunction, sd: int = 2, autoscale: bool = True, min: float = 0.0, max: float = 1.0, **kwargs) -> None\n    3. (mesh: ngsolve.comp.Mesh, **kwargs) -> None\n    4. (arg0: object) -> None\n\nInvoked with: <ngsolve.comp.GridFunctionCoefficientFunction object at 0x70fd10fcc3b0>, <ngsolve.comp.Mesh object at 0x70fd10fa5350>; kwargs: objects=[{'type': 'fieldlines', 'name': 'fieldlines', 'pstart': [], 'pend': [], 'value': [], 'thickness': 0.00013856406460551022}], draw_surf=False, min=0, max=0.1, settings={'Objects': {'Edges': False, 'Surface': True, 'Wireframe': False}}"
     ]
    }
   ],
   "source": [
    "import numpy as np\n",
    "\n",
    "yiB = np.linspace(-.005, .005, 9)\n",
    "XiB, YiB = np.meshgrid(yiB, yiB)\n",
    "fieldlines = B._BuildFieldLines(\n",
    "    mesh,\n",
    "    np.array([XiB.flatten(), YiB.flatten(), np.zeros_like(XiB.flatten())]).T,\n",
    "    num_fieldlines=10**3 // 5,\n",
    "    randomized=False,\n",
    "    length=1.,\n",
    "    thickness=8e-4\n",
    ")\n",
    "\n",
    "Draw(B, mesh, objects=[fieldlines], draw_surf=False, min=0, max=0.1, settings={\"Objects\": {\"Edges\": False, \"Surface\": True, \"Wireframe\": False}})\n",
    "\n",
    "lines = {\n",
    "    \"type\": \"lines\",\n",
    "    \"position\": np.array([[yi[k, :3], yi[k + 1, :3]] for k in range(yi.shape[0] - 1)]).flatten(),\n",
    "    \"name\": \"electron\",\n",
    "    \"color\": \"blue\"\n",
    "}\n",
    "lines2 = {\n",
    "    \"type\": \"lines\",\n",
    "    \"position\": np.array([[yi2[k, :3], yi2[k + 1, :3]] for k in range(yi2.shape[0] - 1)]).flatten(),\n",
    "    \"name\": \"electron2\",\n",
    "    \"color\": \"orange\"\n",
    "}\n",
    "lines3 = {\n",
    "    \"type\": \"lines\",\n",
    "    \"position\": np.array([[yi3[k, :3], yi3[k + 1, :3]] for k in range(yi3.shape[0] - 1)]).flatten(),\n",
    "    \"name\": \"electron3\",\n",
    "    \"color\": \"green\"\n",
    "}\n",
    "\n",
    "scene = Draw(\n",
    "    B,\n",
    "    mesh.Materials('coil'),\n",
    "    draw_surf=False,\n",
    "    objects=[lines, lines2, lines3],\n",
    "    settings={\"Objects\": {\"Edges\": False, \"Surface\": True, \"Wireframe\": False}},\n",
    "    clipping={\"y\": 1, \"z\": 0, \"function\": False, \"grid_size\": 100}\n",
    ")"
   ]
  }
 ],
 "metadata": {
  "kernelspec": {
   "display_name": "Python 3",
   "language": "python",
   "name": "python3"
  },
  "language_info": {
   "codemirror_mode": {
    "name": "ipython",
    "version": 3
   },
   "file_extension": ".py",
   "mimetype": "text/x-python",
   "name": "python",
   "nbconvert_exporter": "python",
   "pygments_lexer": "ipython3",
   "version": "3.10.12"
  }
 },
 "nbformat": 4,
 "nbformat_minor": 2
}
