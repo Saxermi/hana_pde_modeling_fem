{
 "cells": [
  {
   "cell_type": "code",
   "execution_count": 1,
   "metadata": {},
   "outputs": [],
   "source": [
    "from ngsolve import *\n",
    "from ngsolve.webgui import Draw\n",
    "from netgen.occ import *\n",
    "from coil_geometry import create_homo_geometry\n",
    "import numpy as np "
   ]
  },
  {
   "cell_type": "code",
   "execution_count": 2,
   "metadata": {},
   "outputs": [
    {
     "name": "stdout",
     "output_type": "stream",
     "text": [
      "Everything good!\n"
     ]
    }
   ],
   "source": [
    "try:\n",
    "    import webgui_jupyter_widgets\n",
    "    from packaging.version import parse\n",
    "    assert parse(webgui_jupyter_widgets.__version__) >= parse(\"0.2.18\")\n",
    "    print('Everything good!')\n",
    "except:\n",
    "    print(\"\\x1b[31mYou need to update webgui_jupyter_widgets by running: \\x1b[0m\\npython3 -m pip install --upgrade webgui_jupyter_widgets\")"
   ]
  },
  {
   "cell_type": "code",
   "execution_count": 3,
   "metadata": {},
   "outputs": [],
   "source": [
    "nwindings = 6  # Number of windings\n",
    "wireradius = 0.001  # Radius of the wire\n",
    "coilradius = 0.01  # Radius of the coil\n",
    "\n",
    "# Geometrie laden\n",
    "geo, _ = create_coil_geometry(nwindings, wireradius, coilradius)"
   ]
  },
  {
   "cell_type": "code",
   "execution_count": 4,
   "metadata": {},
   "outputs": [
    {
     "data": {
      "text/plain": [
       "<ngsolve.comp.Mesh at 0x714908b7a840>"
      ]
     },
     "execution_count": 4,
     "metadata": {},
     "output_type": "execute_result"
    }
   ],
   "source": [
    "mesh = Mesh(\n",
    "    geo.GenerateMesh()\n",
    ")\n",
    "mesh.Curve(1) "
   ]
  },
  {
   "cell_type": "code",
   "execution_count": 5,
   "metadata": {},
   "outputs": [
    {
     "data": {
      "application/vnd.jupyter.widget-view+json": {
       "model_id": "18324000b2a349e99a15f0c55ca319e8",
       "version_major": 2,
       "version_minor": 0
      },
      "text/plain": [
       "WebGuiWidget(layout=Layout(height='500px', width='100%'), value={'gui_settings': {}, 'ngsolve_version': '6.2.2…"
      ]
     },
     "metadata": {},
     "output_type": "display_data"
    }
   ],
   "source": [
    "Draw(mesh);"
   ]
  },
  {
   "cell_type": "code",
   "execution_count": 6,
   "metadata": {},
   "outputs": [
    {
     "name": "stdout",
     "output_type": "stream",
     "text": [
      "Materialien im Mesh: ('coil', 'air')\n",
      "Randbedingungen im Mesh: ('default', 'default', 'default', 'default', 'outer', 'outer', 'outer', 'outer', 'outer', 'outer')\n"
     ]
    }
   ],
   "source": [
    "print(\"Materialien im Mesh:\", mesh.GetMaterials())\n",
    "print(\"Randbedingungen im Mesh:\", mesh.GetBoundaries())"
   ]
  },
  {
   "cell_type": "code",
   "execution_count": 7,
   "metadata": {},
   "outputs": [],
   "source": [
    "# Konstanten\n",
    "mu = 4 * pi * 1e-7      # Magnetische Feldkonstante (S.2)\n",
    "sigma_coil = 5.87e7     # Leitfähigkeit Kupfer (S.11)\n",
    "sigma_air = 0           # Leitfähigkeit Luft\n",
    "k = 0.1                 # Regularisierungfaktor\n",
    "i_c = 500               # Strom\n",
    "\n",
    "# Geometrische Parameter\n",
    "A_c = pi * wireradius**2  \n",
    "r = sqrt(x**2 + y**2 + z**2)\n",
    "\n",
    "# Stromdichte j_c gemäß Aufgabenstellung\n",
    "j_c = CoefficientFunction((\n",
    "    (nwindings * i_c / A_c) * y / r,\n",
    "    -(nwindings * i_c / A_c) * x / r,\n",
    "    0\n",
    "))"
   ]
  },
  {
   "cell_type": "code",
   "execution_count": 8,
   "metadata": {},
   "outputs": [
    {
     "name": "stdout",
     "output_type": "stream",
     "text": [
      "hcurl smoothingblocks, SmoothingType = 2\n"
     ]
    }
   ],
   "source": [
    "# H(curl)-Raum definieren\n",
    "order = 2\n",
    "V = HCurl(mesh, order=order-1, nograds=True, dirichlet=\"outer\")\n",
    "u, v = V.TnT()\n",
    "gfA = GridFunction(V)\n",
    "\n",
    "\n",
    "# Bilinearform und Linearform\n",
    "a = BilinearForm(V, symmetric=True)\n",
    "a += (1/mu) * InnerProduct(curl(u), curl(v)) * dx\n",
    "a += k * InnerProduct(u, v) * dx\n",
    "\n",
    "# Preconditioner\n",
    "pre = Preconditioner(a, \"multigrid\")\n",
    "\n",
    "# Linearform: Stromdichte\n",
    "f = LinearForm(V)\n",
    "f += InnerProduct(j_c, v) * dx(\"coil\")\n",
    "\n",
    "# Assemble\n",
    "with TaskManager():\n",
    "    a.Assemble()\n",
    "    f.Assemble()"
   ]
  },
  {
   "cell_type": "code",
   "execution_count": 9,
   "metadata": {},
   "outputs": [
    {
     "name": "stdout",
     "output_type": "stream",
     "text": [
      "Matrix size: 48023 x 48023\n",
      "Vector size: 48023\n",
      "Präkonditionierer-Matrixgröße: 48023 x 48023\n"
     ]
    }
   ],
   "source": [
    "# Grösse von Gleichungsystems Elemente überprüfen\n",
    "print(f\"Matrix size: {a.mat.height} x {a.mat.width}\")\n",
    "print(f\"Vector size: {f.vec.size}\")\n",
    "print(f\"Präkonditionierer-Matrixgröße: {pre.mat.height} x {pre.mat.width}\")"
   ]
  },
  {
   "cell_type": "code",
   "execution_count": 10,
   "metadata": {},
   "outputs": [
    {
     "name": "stdout",
     "output_type": "stream",
     "text": [
      "\u001b[2KCG iteration 1, residual = 1082.5868451610445     \n",
      "\u001b[2KCG iteration 2, residual = 5.397757584577613     \n",
      "\u001b[2KCG iteration 3, residual = 0.040732632552690114     \n",
      "\u001b[2KCG iteration 4, residual = 0.0003771163687384318     \n",
      "\u001b[2KCG iteration 5, residual = 4.105699363835877e-06     \n",
      "\u001b[2KCG iteration 6, residual = 5.222657727028719e-08     \n",
      "\u001b[2KCG iteration 7, residual = 7.99878461448559e-10     \n"
     ]
    }
   ],
   "source": [
    "# Lösen des Gleichungssystems mit CG-Verfahren und Präkonditionierer (krylovspace.CGSolver)\n",
    "inv = krylovspace.CGSolver(a.mat, pre.mat, tol=1e-12, printrates = True)\n",
    "\n",
    "with TaskManager():\n",
    "    gfA.vec.data = inv * f.vec"
   ]
  },
  {
   "cell_type": "code",
   "execution_count": 11,
   "metadata": {},
   "outputs": [
    {
     "data": {
      "application/vnd.jupyter.widget-view+json": {
       "model_id": "dfb44f93ff3e44379096a017b5c626b3",
       "version_major": 2,
       "version_minor": 0
      },
      "text/plain": [
       "WebGuiWidget(layout=Layout(height='500px', width='100%'), value={'gui_settings': {}, 'ngsolve_version': '6.2.2…"
      ]
     },
     "metadata": {},
     "output_type": "display_data"
    },
    {
     "data": {
      "text/plain": [
       "BaseWebGuiScene"
      ]
     },
     "execution_count": 11,
     "metadata": {},
     "output_type": "execute_result"
    }
   ],
   "source": [
    "# Visualisierung\n",
    "Draw(curl(gfA), mesh, \"MagneticField\")"
   ]
  },
  {
   "cell_type": "code",
   "execution_count": 12,
   "metadata": {},
   "outputs": [
    {
     "data": {
      "application/vnd.jupyter.widget-view+json": {
       "model_id": "bda0a0c1af784d4599171c8c9b2aa6da",
       "version_major": 2,
       "version_minor": 0
      },
      "text/plain": [
       "WebGuiWidget(layout=Layout(height='500px', width='100%'), value={'gui_settings': {}, 'ngsolve_version': '6.2.2…"
      ]
     },
     "metadata": {},
     "output_type": "display_data"
    },
    {
     "data": {
      "text/plain": [
       "BaseWebGuiScene"
      ]
     },
     "execution_count": 12,
     "metadata": {},
     "output_type": "execute_result"
    }
   ],
   "source": [
    "Draw(gfA, mesh, \"VectorPotential\", draw_surf=True, draw_vol=True)"
   ]
  },
  {
   "cell_type": "code",
   "execution_count": 13,
   "metadata": {},
   "outputs": [
    {
     "name": "stdout",
     "output_type": "stream",
     "text": [
      "Residual norm: 1345.6076807494542\n"
     ]
    }
   ],
   "source": [
    "# Calculate the residual manually\n",
    "residual_vec = f.vec - a.mat * gfA.vec\n",
    "residual_norm = residual_vec.Norm()\n",
    "print(f\"Residual norm: {residual_norm}\")"
   ]
  },
  {
   "cell_type": "code",
   "execution_count": 14,
   "metadata": {},
   "outputs": [],
   "source": [
    "B = curl(gfA) "
   ]
  },
  {
   "cell_type": "code",
   "execution_count": 15,
   "metadata": {},
   "outputs": [
    {
     "data": {
      "application/vnd.jupyter.widget-view+json": {
       "model_id": "ac751f96eb7e408bbc7e103e120e9b52",
       "version_major": 2,
       "version_minor": 0
      },
      "text/plain": [
       "WebGuiWidget(layout=Layout(height='500px', width='100%'), value={'gui_settings': {'Objects': {'Edges': False, …"
      ]
     },
     "metadata": {},
     "output_type": "display_data"
    },
    {
     "data": {
      "text/plain": [
       "BaseWebGuiScene"
      ]
     },
     "execution_count": 15,
     "metadata": {},
     "output_type": "execute_result"
    }
   ],
   "source": [
    "# Feldlinien to be done \n",
    "yiB = np.linspace(-.005,.005,9)\n",
    "XiB, YiB = np.meshgrid(yiB,yiB)\n",
    "fieldlines = B._BuildFieldLines(mesh, np.array([XiB.flatten(),\n",
    "    YiB.flatten(),np.zeros_like(XiB.flatten())]).T,\n",
    "    num_fieldlines=10**3//5, randomized=False,\n",
    "    length=1.,thickness=8e-4)\n",
    "Draw (B, mesh.Materials('coil'), objects=[fieldlines],\n",
    "      draw_surf=False,\n",
    "      min=0, max=0.1,\n",
    "      settings={\"Objects\": {\"Edges\": False, \"Surface\": True,\n",
    "                            \"Wireframe\": False}})"
   ]
  }
 ],
 "metadata": {
  "kernelspec": {
   "display_name": "Python 3",
   "language": "python",
   "name": "python3"
  },
  "language_info": {
   "codemirror_mode": {
    "name": "ipython",
    "version": 3
   },
   "file_extension": ".py",
   "mimetype": "text/x-python",
   "name": "python",
   "nbconvert_exporter": "python",
   "pygments_lexer": "ipython3",
   "version": "3.10.12"
  }
 },
 "nbformat": 4,
 "nbformat_minor": 2
}
