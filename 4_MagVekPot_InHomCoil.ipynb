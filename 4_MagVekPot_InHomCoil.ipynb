{
 "cells": [
  {
   "cell_type": "code",
   "execution_count": 1,
   "metadata": {},
   "outputs": [],
   "source": [
    "from ngsolve import *\n",
    "from ngsolve.webgui import Draw\n",
    "from netgen.occ import *\n",
    "from coil_geometry import create_coil_geometry\n",
    "import matplotlib.pyplot as plt\n",
    "import numpy as np "
   ]
  },
  {
   "cell_type": "code",
   "execution_count": 2,
   "metadata": {},
   "outputs": [],
   "source": [
    "nwindings = 6  # Number of windings\n",
    "wireradius = 0.001  # Radius of the wire\n",
    "coilradius = 0.01  # Radius of the coil\n",
    "\n",
    "# Geometrie laden\n",
    "geo, crosssection = create_coil_geometry(nwindings, wireradius, coilradius)"
   ]
  },
  {
   "cell_type": "code",
   "execution_count": null,
   "metadata": {},
   "outputs": [],
   "source": [
    "mesh = Mesh(\n",
    "    geo.GenerateMesh(grading=0.2)\n",
    ")\n",
    "mesh.Curve(1) "
   ]
  },
  {
   "cell_type": "code",
   "execution_count": null,
   "metadata": {},
   "outputs": [],
   "source": [
    "print(\"Materialien im Mesh:\", mesh.GetMaterials())\n",
    "print(\"Randbedingungen im Mesh:\", mesh.GetBoundaries())"
   ]
  },
  {
   "cell_type": "code",
   "execution_count": 5,
   "metadata": {},
   "outputs": [],
   "source": [
    "# Konstanten\n",
    "mu = 4 * pi * 1e-7      # Magnetische Feldkonstante (S.2)\n",
    "sigma_coil = 5.87e7     # Leitfähigkeit Kupfer (S.11)\n",
    "sigma_air = 0           # Leitfähigkeit Luft\n",
    "k = 0.1                 # Regularisierungfaktor\n",
    "i_c = 100               # Strom [A]\n",
    "\n",
    "# Geometrische Parameter\n",
    "A_c = pi * wireradius**2  \n",
    "crosssection = A_c\n",
    "r = sqrt(x**2 + y**2)\n",
    "\n",
    "# Get j_c from aufgabe 3 "
   ]
  },
  {
   "cell_type": "code",
   "execution_count": 6,
   "metadata": {},
   "outputs": [],
   "source": [
    "# H(curl)-Raum definieren\n",
    "order = 4\n",
    "V = HCurl(mesh, order=order-1, nograds=True, dirichlet=\"outer\")\n",
    "u, v = V.TnT()\n",
    "gfA = GridFunction(V)\n",
    "\n",
    "V_phi = H1(mesh,order = order, dirichlet='out',definedon=mesh.Materials('coil'))\n",
    "phi, psi = V_phi.TnT()\n",
    "gfphi = GridFunction(V_phi)\n",
    "\n",
    "\n",
    "a_phi = BilinearForm(V_phi)\n",
    "a_phi += sigma_coil * grad(phi) * grad(psi) * dx\n",
    "\n",
    "# Rechte Seite (Randbedingungen)\n",
    "f_phi = LinearForm(V_phi)\n",
    "f_phi += i_c / crosssection * psi *ds(\"in\")\n",
    "\n",
    "# pre = Preconditioner(a_phi, \"multigrid\")\n",
    "\n",
    "with TaskManager():\n",
    "    a_phi.Assemble()\n",
    "    f_phi.Assemble()\n",
    "    \n",
    "# inv = krylovspace.CGSolver(a_phi.mat, pre.mat, tol=1e-12, printrates=True)\n",
    "\n",
    "with TaskManager():\n",
    "    gfphi.vec.data = a_phi.mat.Inverse(V_phi.FreeDofs()) * f_phi.vec\n",
    "    "
   ]
  },
  {
   "cell_type": "code",
   "execution_count": 7,
   "metadata": {},
   "outputs": [],
   "source": [
    "# Elektrisches Feld und Stromdichte aus φ berechnen\n",
    "E = -grad(gfphi)  # Elektrisches Feld\n",
    "j_c = sigma_coil * E  # Stromdichte"
   ]
  },
  {
   "cell_type": "code",
   "execution_count": null,
   "metadata": {},
   "outputs": [],
   "source": [
    "# Bilinearform und Linearform\n",
    "a = BilinearForm(V, symmetric=True)\n",
    "a += (1/mu) * InnerProduct(curl(u), curl(v)) * dx\n",
    "a += k * InnerProduct(u, v) * dx\n",
    "\n",
    "# Linearform: Stromdichte\n",
    "f = LinearForm(V)\n",
    "f += InnerProduct(j_c, v) * dx(\"coil\")\n",
    "\n",
    "# Preconditioner\n",
    "pre = Preconditioner(a, \"multigrid\")\n",
    "\n",
    "# Assemble\n",
    "with TaskManager():\n",
    "    a.Assemble()\n",
    "    f.Assemble()"
   ]
  },
  {
   "cell_type": "code",
   "execution_count": null,
   "metadata": {},
   "outputs": [],
   "source": [
    "# Grösse von Gleichungsystems Elemente überprüfen\n",
    "print(f\"Matrix size: {a.mat.height} x {a.mat.width}\")\n",
    "print(f\"Vector size: {f.vec.size}\")\n",
    "print(f\"Präkonditionierer-Matrixgröße: {pre.mat.height} x {pre.mat.width}\")"
   ]
  },
  {
   "cell_type": "code",
   "execution_count": null,
   "metadata": {},
   "outputs": [],
   "source": [
    "# Lösen des Gleichungssystems mit CG-Verfahren und Präkonditionierer (krylovspace.CGSolver)\n",
    "inv = krylovspace.CGSolver(a.mat, pre.mat, tol=1e-12, printrates = True)\n",
    "\n",
    "with TaskManager():\n",
    "    gfA.vec.data = inv * f.vec"
   ]
  },
  {
   "cell_type": "code",
   "execution_count": null,
   "metadata": {},
   "outputs": [],
   "source": [
    "# Calculate the residual manually\n",
    "residual_vec = f.vec - a.mat * gfA.vec\n",
    "residual_norm = residual_vec.Norm()\n",
    "print(f\"Residual norm: {residual_norm}\")"
   ]
  },
  {
   "cell_type": "code",
   "execution_count": 12,
   "metadata": {},
   "outputs": [],
   "source": [
    "B = curl(gfA) "
   ]
  },
  {
   "cell_type": "code",
   "execution_count": null,
   "metadata": {},
   "outputs": [],
   "source": [
    "# Feldlinien to be done \n",
    "yiB = np.linspace(-.005,.005,9)\n",
    "XiB, YiB = np.meshgrid(yiB,yiB)\n",
    "fieldlines = B._BuildFieldLines(mesh, np.array([XiB.flatten(),\n",
    "    YiB.flatten(),np.zeros_like(XiB.flatten())]).T,\n",
    "    num_fieldlines=10**3//5, randomized=False,\n",
    "    length=1.,thickness=8e-4)\n",
    "Draw (B, mesh.Materials('coil'), objects=[fieldlines],\n",
    "      draw_surf=False,\n",
    "      min=0, max=0.1,\n",
    "      settings={\"Objects\": {\"Edges\": False, \"Surface\": True,\n",
    "                            \"Wireframe\": False}})"
   ]
  },
  {
   "cell_type": "code",
   "execution_count": null,
   "metadata": {},
   "outputs": [],
   "source": [
    "# Anzahl der Punkte im Gitter\n",
    "nx = 71\n",
    "nz = 71\n",
    "lim = 0.02\n",
    "xvals = np.linspace(-lim, lim, nx)\n",
    "zvals = np.linspace(-lim, lim, nz)\n",
    "\n",
    "# Meshgrid anlegen, für (X,Z)\n",
    "X, Z = np.meshgrid(xvals, zvals)\n",
    "\n",
    "# Arrays für Bx (U), Bz (V) und Magnetfeldstärke (Mag) anlegen\n",
    "U = np.zeros_like(X)\n",
    "V = np.zeros_like(X)\n",
    "Mag = np.zeros_like(X)  # Betrag des Magnetfelds\n",
    "Bz = np.zeros_like(X)  # Für Bz-Komponente\n",
    "\n",
    "# Schleife über Gitterpunkte und Magnetfeld auswerten\n",
    "for i in range(nz):\n",
    "    for j in range(nx):\n",
    "        x = X[i, j]\n",
    "        z = Z[i, j]\n",
    "\n",
    "        B_val = B(mesh(x, 0, z))  # B_val enthält (Bx, By, Bz)\n",
    "        U[i, j] = B_val[0]       # x-Komponente\n",
    "        V[i, j] = B_val[2]       # z-Komponente\n",
    "        Bz[i, j] = B_val[2]      # z-Komponente\n",
    "        Mag[i, j] = np.sqrt(B_val[0]**2 + B_val[2]**2)  # Betrag des Magnetfelds\n",
    "\n",
    "# Schrittweite für Pfeildichte\n",
    "step = 6\n",
    "X_sparse = X[::step, ::step]\n",
    "Z_sparse = Z[::step, ::step]\n",
    "U_sparse = U[::step, ::step]\n",
    "V_sparse = V[::step, ::step]\n",
    "Mag_sparse = Mag[::step, ::step]\n",
    "\n",
    "# Plot erstellen\n",
    "plt.figure(figsize=(10, 7))\n",
    "plt.title(\"Magnetfeld in der Ebene y=0\")\n",
    "\n",
    "# Farbkontur basierend auf Magnetfeldbetrag\n",
    "cont = plt.contourf(X, Z, Bz, levels=50, cmap=\"viridis\", alpha=0.9, antialiased=True)\n",
    "plt.colorbar(cont, label=\"$|\\\\mathbf{B_z}|$ [Tesla]\")\n",
    "\n",
    "# Pfeile für Magnetfeldrichtung und -stärke\n",
    "plt.quiver(X_sparse, Z_sparse, U_sparse, V_sparse, color='k', scale=4, width=0.003, label='arrow')\n",
    "\n",
    "# Magnetfeldlinien \n",
    "plt.streamplot(X, Z, U, V, color='b', density=1.3, linewidth=0.8)\n",
    "\n",
    "# Layout\n",
    "plt.axis('equal')\n",
    "plt.xlabel(\"x [m]\")\n",
    "plt.ylabel(\"z [m]\")\n",
    "\n",
    "# Fix for legend\n",
    "plt.legend([\"Stärke Magnetfeld\", \"Magnetfeldlinien\"], loc='upper right')\n",
    "\n",
    "plt.show()"
   ]
  },
  {
   "cell_type": "markdown",
   "metadata": {},
   "source": [
    "# Exports"
   ]
  },
  {
   "cell_type": "code",
   "execution_count": null,
   "metadata": {},
   "outputs": [],
   "source": [
    "import os\n",
    "project_directory = os.getcwd()\n",
    "i_c_str = str(i_c)\n",
    "\n",
    "target_folder_name = \"results/inhomo/\" + i_c_str  # Name of the folder to check/create\n",
    "\n",
    "target_folder_path = os.path.join(project_directory, target_folder_name)\n",
    "\n",
    "# Check if the folder exists\n",
    "if not os.path.exists(target_folder_path):\n",
    "    # Create the folder if it doesn't exist\n",
    "    os.makedirs(target_folder_path)\n",
    "    os.makedirs(target_folder_path + \"/results\")\n",
    "    os.makedirs(target_folder_path + \"/plot\")\n",
    "    print(f\"Folder '{target_folder_name}' created.\")\n",
    "else:\n",
    "    # Skip creation if it exists\n",
    "    print(f\"Folder '{target_folder_name}' already exists, skipping creation.\")"
   ]
  },
  {
   "cell_type": "code",
   "execution_count": null,
   "metadata": {},
   "outputs": [],
   "source": [
    "override = 1\n",
    "ord_str = str(order)\n",
    "ampere_dir = \"results/inhomo/\" + i_c_str\n",
    "filename_gfA    = ampere_dir + \"/results/gfA_inhomo_\" + i_c_str + \"_\" + ord_str + \"ord.vec\"\n",
    "filename_mesh   = ampere_dir + \"/results/mesh_inhomo_\" + i_c_str + \"_\" + ord_str + \"ord.vol\"\n",
    "\n",
    "if override == 1:\n",
    "    gfA.Save(filename_gfA)\n",
    "    \n",
    "    ngmesh = mesh.ngmesh\n",
    "    ngmesh.Save(filename_mesh)\n",
    "    \n",
    "    print(\" ########################### \")\n",
    "    print(\" ------ Results saved ------ \")\n",
    "    print(\" ########################### \")\n",
    "else:\n",
    "    print(\" ########################### \")\n",
    "    print(\" ---- Results not saved ---- \")\n",
    "    print(\" ########################### \")"
   ]
  },
  {
   "cell_type": "code",
   "execution_count": null,
   "metadata": {},
   "outputs": [],
   "source": [
    "override = 1\n",
    "\n",
    "filename_magnetfeld_plot   = ampere_dir + \"/plot/field_inhomo_plot\" + i_c_str + \"_\" + ord_str + \"ord.pdf\"\n",
    "\n",
    "if override == 1:\n",
    "    # Plot erstellen\n",
    "    plt.figure(figsize=(10, 7))\n",
    "    plt.title(\"Magnetfeld in der Ebene y=0\")\n",
    "\n",
    "    # Farbkontur basierend auf Magnetfeldbetrag\n",
    "    cont = plt.contourf(X, Z, Bz, levels=50, cmap=\"viridis\", alpha=0.9, antialiased=True)\n",
    "    plt.colorbar(cont, label=\"$|\\\\mathbf{B_z}|$ [Tesla]\")\n",
    "\n",
    "    # Pfeile für Magnetfeldrichtung und -stärke\n",
    "    plt.quiver(X_sparse, Z_sparse, U_sparse, V_sparse, color='k', scale=4, width=0.003, label='arrow')\n",
    "\n",
    "    # Magnetfeldlinien \n",
    "    plt.streamplot(X, Z, U, V, color='b', density=1.3, linewidth=0.8)\n",
    "\n",
    "    # Layout\n",
    "    plt.axis('equal')\n",
    "    plt.xlabel(\"x [m]\")\n",
    "    plt.ylabel(\"z [m]\")\n",
    "\n",
    "    # Fix for legend\n",
    "    plt.legend([\"Stärke Magnetfeld\", \"Magnetfeldlinien\"], loc='upper right')\n",
    "    plt.savefig(filename_magnetfeld_plot, format='pdf', bbox_inches='tight')\n",
    "    plt.close()\n",
    "    \n",
    "    print(\" ########################### \")\n",
    "    print(\" ------ Plot saved ------ \")\n",
    "    print(\" ########################### \")\n",
    "else:\n",
    "    print(\" ########################### \")\n",
    "    print(\" ---- Plot not saved ---- \")\n",
    "    print(\" ########################### \")"
   ]
  }
 ],
 "metadata": {
  "kernelspec": {
   "display_name": ".venv",
   "language": "python",
   "name": "python3"
  },
  "language_info": {
   "codemirror_mode": {
    "name": "ipython",
    "version": 3
   },
   "file_extension": ".py",
   "mimetype": "text/x-python",
   "name": "python",
   "nbconvert_exporter": "python",
   "pygments_lexer": "ipython3",
   "version": "3.9.9"
  }
 },
 "nbformat": 4,
 "nbformat_minor": 2
}
