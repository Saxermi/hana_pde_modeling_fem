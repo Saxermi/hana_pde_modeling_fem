{
 "cells": [
  {
   "cell_type": "code",
   "execution_count": 1,
   "metadata": {},
   "outputs": [],
   "source": [
    "from ngsolve import *\n",
    "from ngsolve.webgui import Draw\n",
    "from netgen.occ import *\n",
    "from coil_geometry import create_coil_geometry\n",
    "import numpy as np "
   ]
  },
  {
   "cell_type": "code",
   "execution_count": 2,
   "metadata": {},
   "outputs": [
    {
     "name": "stdout",
     "output_type": "stream",
     "text": [
      "Everything good!\n"
     ]
    }
   ],
   "source": [
    "try:\n",
    "    import webgui_jupyter_widgets\n",
    "    from packaging.version import parse\n",
    "    assert parse(webgui_jupyter_widgets.__version__) >= parse(\"0.2.18\")\n",
    "    print('Everything good!')\n",
    "except:\n",
    "    print(\"\\x1b[31mYou need to update webgui_jupyter_widgets by running: \\x1b[0m\\npython3 -m pip install --upgrade webgui_jupyter_widgets\")"
   ]
  },
  {
   "cell_type": "code",
   "execution_count": 3,
   "metadata": {},
   "outputs": [],
   "source": [
    "nwindings = 6  # Number of windings\n",
    "wireradius = 0.001  # Radius of the wire\n",
    "coilradius = 0.01  # Radius of the coil\n",
    "\n",
    "# Geometrie laden\n",
    "geo, _ = create_coil_geometry(nwindings, wireradius, coilradius)"
   ]
  },
  {
   "cell_type": "code",
   "execution_count": 4,
   "metadata": {},
   "outputs": [
    {
     "data": {
      "text/plain": [
       "<ngsolve.comp.Mesh at 0x78bed5d6c680>"
      ]
     },
     "execution_count": 4,
     "metadata": {},
     "output_type": "execute_result"
    }
   ],
   "source": [
    "mesh = Mesh(\n",
    "    geo.GenerateMesh()\n",
    ")\n",
    "mesh.Curve(1) "
   ]
  },
  {
   "cell_type": "code",
   "execution_count": 5,
   "metadata": {},
   "outputs": [
    {
     "data": {
      "application/vnd.jupyter.widget-view+json": {
       "model_id": "f6706ea1fe0e44f6917ee6b8504c0d71",
       "version_major": 2,
       "version_minor": 0
      },
      "text/plain": [
       "WebGuiWidget(layout=Layout(height='500px', width='100%'), value={'gui_settings': {}, 'ngsolve_version': '6.2.2…"
      ]
     },
     "metadata": {},
     "output_type": "display_data"
    }
   ],
   "source": [
    "Draw(mesh);"
   ]
  },
  {
   "cell_type": "code",
   "execution_count": 6,
   "metadata": {},
   "outputs": [
    {
     "name": "stdout",
     "output_type": "stream",
     "text": [
      "Materialien im Mesh: ('coil', 'air')\n",
      "Randbedingungen im Mesh: ('out', 'coilbnd', 'in', 'outer', 'outer', 'outer', 'outer', 'outer', 'outer')\n"
     ]
    }
   ],
   "source": [
    "print(\"Materialien im Mesh:\", mesh.GetMaterials())\n",
    "print(\"Randbedingungen im Mesh:\", mesh.GetBoundaries())"
   ]
  },
  {
   "cell_type": "code",
   "execution_count": 7,
   "metadata": {},
   "outputs": [],
   "source": [
    "# Konstanten\n",
    "mu = 4 * pi * 1e-7      # Magnetische Feldkonstante (S.2)\n",
    "sigma_coil = 5.87e7     # Leitfähigkeit Kupfer (S.11)\n",
    "sigma_air = 0           # Leitfähigkeit Luft\n",
    "k = 0.1                 # Regularisierungfaktor\n",
    "i_c = 500               # Strom\n",
    "\n",
    "# Geometrische Parameter\n",
    "A_c = pi * wireradius**2  \n",
    "r = sqrt(x**2 + y**2 + z**2)\n",
    "\n",
    "# Stromdichte j_c gemäß Aufgabenstellung\n",
    "j_c = CoefficientFunction((\n",
    "    (nwindings * i_c / A_c) * y / r,\n",
    "    -(nwindings * i_c / A_c) * x / r,\n",
    "    0\n",
    "))"
   ]
  },
  {
   "cell_type": "code",
   "execution_count": 8,
   "metadata": {},
   "outputs": [
    {
     "name": "stdout",
     "output_type": "stream",
     "text": [
      "hcurl smoothingblocks, SmoothingType = 2\n"
     ]
    }
   ],
   "source": [
    "# H(curl)-Raum definieren\n",
    "order = 2\n",
    "V = HCurl(mesh, order=order-1, nograds=True, dirichlet=\"outer\")\n",
    "u, v = V.TnT()\n",
    "gfA = GridFunction(V)\n",
    "\n",
    "\n",
    "# Bilinearform und Linearform\n",
    "a = BilinearForm(V, symmetric=True)\n",
    "a += (1/mu) * InnerProduct(curl(u), curl(v)) * dx\n",
    "a += k * InnerProduct(u, v) * dx\n",
    "\n",
    "# Preconditioner\n",
    "pre = Preconditioner(a, \"multigrid\")\n",
    "\n",
    "# Linearform: Stromdichte\n",
    "f = LinearForm(V)\n",
    "f += InnerProduct(j_c, v) * dx(\"coil\")\n",
    "\n",
    "# Assemble\n",
    "with TaskManager():\n",
    "    a.Assemble()\n",
    "    f.Assemble()"
   ]
  },
  {
   "cell_type": "code",
   "execution_count": 9,
   "metadata": {},
   "outputs": [
    {
     "name": "stdout",
     "output_type": "stream",
     "text": [
      "Matrix size: 157322 x 157322\n",
      "Vector size: 157322\n",
      "Präkonditionierer-Matrixgröße: 157322 x 157322\n"
     ]
    }
   ],
   "source": [
    "# Grösse von Gleichungsystems Elemente überprüfen\n",
    "print(f\"Matrix size: {a.mat.height} x {a.mat.width}\")\n",
    "print(f\"Vector size: {f.vec.size}\")\n",
    "print(f\"Präkonditionierer-Matrixgröße: {pre.mat.height} x {pre.mat.width}\")"
   ]
  },
  {
   "cell_type": "code",
   "execution_count": 10,
   "metadata": {},
   "outputs": [
    {
     "name": "stdout",
     "output_type": "stream",
     "text": [
      "\u001b[2KCG iteration 1, residual = 120469.14048934622     \n",
      "\u001b[2KCG iteration 2, residual = 2331.3206639947607     \n",
      "\u001b[2KCG iteration 3, residual = 53.071782281650094     \n",
      "\u001b[2KCG iteration 4, residual = 21.32852592332521     \n",
      "\u001b[2KCG iteration 5, residual = 10.477961054054042     \n",
      "\u001b[2KCG iteration 6, residual = 6.2445214862398215     \n",
      "\u001b[2KCG iteration 7, residual = 1.7254278915880763     \n",
      "\u001b[2KCG iteration 8, residual = 0.7021862761168116     \n",
      "\u001b[2KCG iteration 9, residual = 0.8359538463897412     \n",
      "\u001b[2KCG iteration 10, residual = 0.7428827514329526     \n",
      "\u001b[2KCG iteration 11, residual = 2.439836275312528     \n",
      "\u001b[2KCG iteration 12, residual = 1.3850799355493395     \n",
      "\u001b[2KCG iteration 13, residual = 0.8092531480275623     \n",
      "\u001b[2KCG iteration 14, residual = 0.6298091825387568     \n",
      "\u001b[2KCG iteration 15, residual = 0.14924886742914142     \n",
      "\u001b[2KCG iteration 16, residual = 0.27830389792201526     \n",
      "\u001b[2KCG iteration 17, residual = 0.41584035674834885     \n",
      "\u001b[2KCG iteration 18, residual = 0.4479691325674436     \n",
      "\u001b[2KCG iteration 19, residual = 0.5965630784685834     \n",
      "\u001b[2KCG iteration 20, residual = 0.47248953820402917     \n",
      "\u001b[2KCG iteration 21, residual = 0.5420493886619063     \n",
      "\u001b[2KCG iteration 22, residual = 0.49187569301304107     \n",
      "\u001b[2KCG iteration 23, residual = 0.4751572883479502     \n",
      "\u001b[2KCG iteration 24, residual = 0.593926626596282     \n",
      "\u001b[2KCG iteration 25, residual = 0.5028349584155463     \n",
      "\u001b[2KCG iteration 26, residual = 0.2338102088155838     \n",
      "\u001b[2KCG iteration 27, residual = 1.3557624785157132     \n",
      "\u001b[2KCG iteration 28, residual = 1.4845972801351988     \n",
      "\u001b[2KCG iteration 29, residual = 1.2962512820256404     \n",
      "\u001b[2KCG iteration 30, residual = 2.7088560983792385     \n",
      "\u001b[2KCG iteration 31, residual = 3.34668262048771     \n",
      "\u001b[2KCG iteration 32, residual = 2.9755157854329903     \n",
      "\u001b[2KCG iteration 33, residual = 1.507805095928815     \n",
      "\u001b[2KCG iteration 34, residual = 1.7643896176121896     \n",
      "\u001b[2KCG iteration 35, residual = 1.6965337003705447     \n",
      "\u001b[2KCG iteration 36, residual = 2.138061715287443     \n",
      "\u001b[2KCG iteration 37, residual = 2.034595547483895     \n",
      "\u001b[2KCG iteration 38, residual = 1.9707837620473303     \n",
      "\u001b[2KCG iteration 39, residual = 2.0973365881841928     \n",
      "\u001b[2KCG iteration 40, residual = 2.6643522096962227     \n",
      "\u001b[2KCG iteration 41, residual = 2.848605943094483     \n",
      "\u001b[2KCG iteration 42, residual = 2.247166827875079     \n",
      "\u001b[2KCG iteration 43, residual = 1.2407228931981416     \n",
      "\u001b[2KCG iteration 44, residual = 2.686069670931531     \n",
      "\u001b[2KCG iteration 45, residual = 3.0549677175200003     \n",
      "\u001b[2KCG iteration 46, residual = 4.130240821883252     \n",
      "\u001b[2KCG iteration 47, residual = 2.5414785294547144     \n",
      "\u001b[2KCG iteration 48, residual = 1.3712761138973604     \n",
      "\u001b[2KCG iteration 49, residual = 2.421032093134038     \n",
      "\u001b[2KCG iteration 50, residual = 2.1081992337327833     \n",
      "\u001b[2KCG iteration 51, residual = 2.43253838888571     \n",
      "\u001b[2KCG iteration 52, residual = 2.2692063801509024     \n",
      "\u001b[2KCG iteration 53, residual = 1.2871593679562223     \n",
      "\u001b[2KCG iteration 54, residual = 2.6393726662519366     \n",
      "\u001b[2KCG iteration 55, residual = 2.0682285923469914     \n",
      "\u001b[2KCG iteration 56, residual = 1.0312230105272557     \n",
      "\u001b[2KCG iteration 57, residual = 9.926750577870338     \n",
      "\u001b[2KCG iteration 58, residual = 14.876616890525453     \n",
      "\u001b[2KCG iteration 59, residual = 8.038955111890326     \n",
      "\u001b[2KCG iteration 60, residual = 11.05853977130247     \n",
      "\u001b[2KCG iteration 61, residual = 90.74657637253165     \n",
      "\u001b[2KCG iteration 62, residual = 80.38008498048652     \n",
      "\u001b[2KCG iteration 63, residual = 76.38745792990552     \n",
      "\u001b[2KCG iteration 64, residual = 14.65166636032609     \n",
      "\u001b[2KCG iteration 65, residual = 143.8560868854488     \n",
      "\u001b[2KCG iteration 66, residual = 101.27978295760913     \n",
      "\u001b[2KCG iteration 67, residual = 64.45503962075114     \n",
      "\u001b[2KCG iteration 68, residual = 26.46047619510512     \n",
      "\u001b[2KCG iteration 69, residual = 72.57349969503744     \n",
      "\u001b[2KCG iteration 70, residual = 66.16022480408083     \n",
      "\u001b[2KCG iteration 71, residual = 25.4423251178472     \n",
      "\u001b[2KCG iteration 72, residual = 57.131312674224844     \n",
      "\u001b[2KCG iteration 73, residual = 85.8554655883857     \n",
      "\u001b[2KCG iteration 74, residual = 24.338414803792762     \n",
      "\u001b[2KCG iteration 75, residual = 110.97524041163916     \n",
      "\u001b[2KCG iteration 76, residual = 30.280512010275544     \n",
      "\u001b[2KCG iteration 77, residual = 102.74132025458827     \n",
      "\u001b[2KCG iteration 78, residual = 111.21012497219431     \n",
      "\u001b[2KCG iteration 79, residual = 59.459634550264894     \n",
      "\u001b[2KCG iteration 80, residual = 96.40266307146065     \n",
      "\u001b[2KCG iteration 81, residual = 111.33793912371056     \n",
      "\u001b[2KCG iteration 82, residual = 76.77875538706702     \n",
      "\u001b[2KCG iteration 83, residual = 115.22308707421449     \n",
      "\u001b[2KCG iteration 84, residual = 109.34322713042444     \n",
      "\u001b[2KCG iteration 85, residual = 113.29316506276399     \n",
      "\u001b[2KCG iteration 86, residual = 138.40866954775012     \n",
      "\u001b[2KCG iteration 87, residual = 88.02752489682068     \n",
      "\u001b[2KCG iteration 88, residual = 85.89758952520253     \n",
      "\u001b[2KCG iteration 89, residual = 95.23486102116998     \n",
      "\u001b[2KCG iteration 90, residual = 44.52507796877374     \n",
      "\u001b[2KCG iteration 91, residual = 74.56446460450573     \n",
      "\u001b[2KCG iteration 92, residual = 97.24425154999118     \n",
      "\u001b[2KCG iteration 93, residual = 104.91799631306381     \n",
      "\u001b[2KCG iteration 94, residual = 52.76870396500261     \n",
      "\u001b[2KCG iteration 95, residual = 78.09898240944688     \n",
      "\u001b[2KCG iteration 96, residual = 126.46405592560458     \n",
      "\u001b[2KCG iteration 97, residual = 91.78560928440123     \n",
      "\u001b[2KCG iteration 98, residual = 88.96073803481929     \n",
      "\u001b[2KCG iteration 99, residual = 102.58153906965559     \n",
      "\u001b[2KCG iteration 100, residual = 88.07552498805408     \n",
      "\u001b[2KWARNING: CG did not converge to TOL\n"
     ]
    }
   ],
   "source": [
    "# Lösen des Gleichungssystems mit CG-Verfahren und Präkonditionierer (krylovspace.CGSolver)\n",
    "inv = krylovspace.CGSolver(a.mat, pre.mat, tol=1e-12, printrates = True)\n",
    "\n",
    "with TaskManager():\n",
    "    gfA.vec.data = inv * f.vec"
   ]
  },
  {
   "cell_type": "code",
   "execution_count": 11,
   "metadata": {},
   "outputs": [
    {
     "data": {
      "application/vnd.jupyter.widget-view+json": {
       "model_id": "70810ad224034a09905f24bf2acd282f",
       "version_major": 2,
       "version_minor": 0
      },
      "text/plain": [
       "WebGuiWidget(layout=Layout(height='500px', width='100%'), value={'gui_settings': {}, 'ngsolve_version': '6.2.2…"
      ]
     },
     "metadata": {},
     "output_type": "display_data"
    },
    {
     "data": {
      "text/plain": [
       "BaseWebGuiScene"
      ]
     },
     "execution_count": 11,
     "metadata": {},
     "output_type": "execute_result"
    }
   ],
   "source": [
    "# Visualisierung\n",
    "Draw(curl(gfA), mesh, \"MagneticField\")"
   ]
  },
  {
   "cell_type": "code",
   "execution_count": 12,
   "metadata": {},
   "outputs": [
    {
     "data": {
      "application/vnd.jupyter.widget-view+json": {
       "model_id": "e759c966a54241b69f31b2c73ed815b2",
       "version_major": 2,
       "version_minor": 0
      },
      "text/plain": [
       "WebGuiWidget(layout=Layout(height='500px', width='100%'), value={'gui_settings': {}, 'ngsolve_version': '6.2.2…"
      ]
     },
     "metadata": {},
     "output_type": "display_data"
    },
    {
     "data": {
      "text/plain": [
       "BaseWebGuiScene"
      ]
     },
     "execution_count": 12,
     "metadata": {},
     "output_type": "execute_result"
    }
   ],
   "source": [
    "Draw(gfA, mesh, \"VectorPotential\", draw_surf=True, draw_vol=True)"
   ]
  },
  {
   "cell_type": "code",
   "execution_count": 13,
   "metadata": {},
   "outputs": [
    {
     "name": "stdout",
     "output_type": "stream",
     "text": [
      "Residual norm: 841.2579572897084\n"
     ]
    }
   ],
   "source": [
    "# Calculate the residual manually\n",
    "residual_vec = f.vec - a.mat * gfA.vec\n",
    "residual_norm = residual_vec.Norm()\n",
    "print(f\"Residual norm: {residual_norm}\")"
   ]
  },
  {
   "cell_type": "code",
   "execution_count": 14,
   "metadata": {},
   "outputs": [],
   "source": [
    "B = curl(gfA) "
   ]
  },
  {
   "cell_type": "code",
   "execution_count": 15,
   "metadata": {},
   "outputs": [
    {
     "data": {
      "application/vnd.jupyter.widget-view+json": {
       "model_id": "b5f9870e59104de78873b8dfac329ffe",
       "version_major": 2,
       "version_minor": 0
      },
      "text/plain": [
       "WebGuiWidget(layout=Layout(height='500px', width='100%'), value={'gui_settings': {'Objects': {'Edges': False, …"
      ]
     },
     "metadata": {},
     "output_type": "display_data"
    },
    {
     "data": {
      "text/plain": [
       "BaseWebGuiScene"
      ]
     },
     "execution_count": 15,
     "metadata": {},
     "output_type": "execute_result"
    }
   ],
   "source": [
    "# Feldlinien to be done \n",
    "yiB = np.linspace(-.005,.005,9)\n",
    "XiB, YiB = np.meshgrid(yiB,yiB)\n",
    "fieldlines = B._BuildFieldLines(mesh, np.array([XiB.flatten(),\n",
    "    YiB.flatten(),np.zeros_like(XiB.flatten())]).T,\n",
    "    num_fieldlines=10**3//5, randomized=False,\n",
    "    length=1.,thickness=8e-4)\n",
    "Draw (B, mesh.Materials('coil'), objects=[fieldlines],\n",
    "      draw_surf=False,\n",
    "      min=0, max=0.1,\n",
    "      settings={\"Objects\": {\"Edges\": False, \"Surface\": True,\n",
    "                            \"Wireframe\": False}})"
   ]
  }
 ],
 "metadata": {
  "kernelspec": {
   "display_name": "Python 3",
   "language": "python",
   "name": "python3"
  },
  "language_info": {
   "codemirror_mode": {
    "name": "ipython",
    "version": 3
   },
   "file_extension": ".py",
   "mimetype": "text/x-python",
   "name": "python",
   "nbconvert_exporter": "python",
   "pygments_lexer": "ipython3",
   "version": "3.10.12"
  }
 },
 "nbformat": 4,
 "nbformat_minor": 2
}
