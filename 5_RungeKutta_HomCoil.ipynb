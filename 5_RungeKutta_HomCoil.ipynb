{
 "cells": [
  {
   "cell_type": "code",
   "execution_count": 1,
   "metadata": {},
   "outputs": [],
   "source": [
    "from ngsolve import *\n",
    "from ngsolve.webgui import Draw\n",
    "from netgen.occ import *\n",
    "from netgen.meshing import Mesh as NGMesh\n",
    "import numpy as np "
   ]
  },
  {
   "cell_type": "code",
   "execution_count": null,
   "metadata": {},
   "outputs": [],
   "source": [
    "# Import mesh and gridfunction from 4_MagVekPot_HomCoil.ipynb\n",
    "\n",
    "# Load mesh\n",
    "ngmesh = NGMesh()\n",
    "ngmesh.Load(\"results/homo/mesh_homo.vol\")\n",
    "mesh = Mesh(ngmesh)\n",
    "\n",
    "# Load Gridfunction and B\n",
    "order = 2\n",
    "V = HCurl(mesh, order=order-1, nograds=True, dirichlet=\"outer\")\n",
    "gfA = GridFunction(V)\n",
    "gfA.Load(\"results/homo/gfA_homo.vec\")\n",
    "B = curl(gfA)"
   ]
  }
 ],
 "metadata": {
  "kernelspec": {
   "display_name": ".venv",
   "language": "python",
   "name": "python3"
  },
  "language_info": {
   "codemirror_mode": {
    "name": "ipython",
    "version": 3
   },
   "file_extension": ".py",
   "mimetype": "text/x-python",
   "name": "python",
   "nbconvert_exporter": "python",
   "pygments_lexer": "ipython3",
   "version": "3.9.9"
  }
 },
 "nbformat": 4,
 "nbformat_minor": 2
}
