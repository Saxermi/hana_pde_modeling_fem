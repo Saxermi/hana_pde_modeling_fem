{
 "cells": [
  {
   "cell_type": "code",
   "execution_count": 2,
   "metadata": {},
   "outputs": [
    {
     "name": "stdout",
     "output_type": "stream",
     "text": [
      "optfile ./ng.opt does not exist - using default values\n",
      "togl-version : 2\n",
      "OCC module loaded\n",
      "loading ngsolve library\n",
      "NGSolve-6.2.2405\n",
      "Using Lapack\n",
      "Including sparse direct solver UMFPACK\n",
      "Running parallel using 14 thread(s)\n"
     ]
    },
    {
     "name": "stderr",
     "output_type": "stream",
     "text": [
      "2024-12-28 15:36:57.517 Python[29209:144157] +[IMKClient subclass]: chose IMKClient_Legacy\n",
      "2024-12-28 15:36:57.517 Python[29209:144157] +[IMKInputSession subclass]: chose IMKInputSession_Legacy\n"
     ]
    }
   ],
   "source": [
    "from ngsolve import *\n",
    "from ngsolve import Draw, curl, grad\n",
    "from netgen.occ import *\n",
    "from netgen.gui import *\n",
    "from coil_geometry import *"
   ]
  },
  {
   "cell_type": "code",
   "execution_count": 3,
   "metadata": {},
   "outputs": [],
   "source": [
    "nwindings = 6  # Number of windings\n",
    "wireradius = 0.001  # Radius of the wire\n",
    "coilradius = 0.01  # Radius of the coil\n",
    "\n",
    "# Geometrie laden\n",
    "geo = create_homo_geometry(nwindings, wireradius, coilradius)"
   ]
  },
  {
   "cell_type": "code",
   "execution_count": 4,
   "metadata": {},
   "outputs": [],
   "source": [
    "Draw(geo)"
   ]
  },
  {
   "cell_type": "code",
   "execution_count": 5,
   "metadata": {},
   "outputs": [
    {
     "name": "stdout",
     "output_type": "stream",
     "text": [
      " Face 1 / 10 (parameter space projection)\n",
      " Face 2 / 10 (parameter space projection)\n",
      " Face 3 / 10 (parameter space projection)\n",
      " Face 4 / 10 (parameter space projection)\n",
      " Face 5 / 10 (parameter space projection)\n",
      " Face 6 / 10 (parameter space projection)\n",
      " Face 7 / 10 (parameter space projection)\n",
      " Face 8 / 10 (parameter space projection)\n",
      " Face 9 / 10 (parameter space projection)\n",
      " Face 10 / 10 (parameter space projection)\n",
      " Delaunay meshing\n",
      " Remove Illegal Elements\n",
      " Delaunay meshing\n",
      " start tetmeshing\n",
      " Success !\n",
      " Volume Optimization\n",
      " Curve elements, order = 1\n"
     ]
    },
    {
     "data": {
      "text/plain": [
       "<ngsolve.comp.Mesh at 0x110f1f8b0>"
      ]
     },
     "execution_count": 5,
     "metadata": {},
     "output_type": "execute_result"
    }
   ],
   "source": [
    "mesh = Mesh(\n",
    "    geo.GenerateMesh()\n",
    ")\n",
    "mesh.Curve(1) "
   ]
  },
  {
   "cell_type": "code",
   "execution_count": 6,
   "metadata": {},
   "outputs": [
    {
     "data": {
      "text/plain": [
       "('default',\n",
       " 'default',\n",
       " 'default',\n",
       " 'default',\n",
       " 'outer',\n",
       " 'outer',\n",
       " 'outer',\n",
       " 'outer',\n",
       " 'outer',\n",
       " 'outer')"
      ]
     },
     "execution_count": 6,
     "metadata": {},
     "output_type": "execute_result"
    }
   ],
   "source": [
    "mesh.GetBoundaries()"
   ]
  },
  {
   "cell_type": "code",
   "execution_count": 7,
   "metadata": {},
   "outputs": [],
   "source": [
    "# Konstanten\n",
    "mu = 4 * pi * 1e-7  # Magnetische Feldkonstante (S.2)\n",
    "sigma_coil = 5.87e7  # Leitfähigkeit Kupfer (S.11)\n",
    "sigma_air = 0 # Leitfähigkeit Luft\n",
    "k = 1e-5  # Regularisierung\n",
    "\n",
    "# Geometrische Parameter\n",
    "i_c = 500 \n",
    "A_c = pi * wireradius**2  \n",
    "r = sqrt(x**2 + y**2 + z**2) \n",
    "\n",
    "# Stromdichte j_c gemäß Aufgabenstellung\n",
    "j_c = CoefficientFunction((\n",
    "    (nwindings * i_c / A_c) * y / r,\n",
    "    -(nwindings * i_c / A_c) * x / r,\n",
    "    0\n",
    "))"
   ]
  },
  {
   "cell_type": "code",
   "execution_count": 8,
   "metadata": {},
   "outputs": [
    {
     "name": "stdout",
     "output_type": "stream",
     "text": [
      "hcurl smoothingblocks, SmoothingType = 2\n",
      "Matrix size: 47895 x 47895\n",
      "Vector size: 47895\n",
      "Präkonditionierer-Matrixgröße: 47895 x 47895\n"
     ]
    }
   ],
   "source": [
    "# H(curl)-Raum definieren\n",
    "order = 2\n",
    "V = HCurl(mesh, order=order-1, nograds=True, dirichlet=\"outer\")\n",
    "u, v = V.TnT()\n",
    "gfA = GridFunction(V)\n",
    "\n",
    "\n",
    "# Bilinearform und Linearform\n",
    "a = BilinearForm(V, symmetric=True)\n",
    "a += (1/mu) * InnerProduct(curl(u), curl(v)) * dx\n",
    "a += k * InnerProduct(u, v) * dx\n",
    "\n",
    "# Preconditioner\n",
    "pre = Preconditioner(a, \"multigrid\")\n",
    "\n",
    "# Linearform: Stromdichte\n",
    "f = LinearForm(V)\n",
    "f += InnerProduct(j_c, v) * dx\n",
    "\n",
    "# Assemble\n",
    "a.Assemble()\n",
    "f.Assemble()\n",
    "\n",
    "print(f\"Matrix size: {a.mat.height} x {a.mat.width}\")\n",
    "print(f\"Vector size: {f.vec.size}\")\n",
    "print(f\"Präkonditionierer-Matrixgröße: {pre.mat.height} x {pre.mat.width}\")"
   ]
  },
  {
   "cell_type": "code",
   "execution_count": 10,
   "metadata": {},
   "outputs": [
    {
     "ename": "TypeError",
     "evalue": "CGSolver(): incompatible function arguments. The following argument types are supported:\n    1. (mat: BaseMatrix, pre: BaseMatrix, complex: bool = False, printrates: bool = True, precision: float = 1e-08, maxsteps: int = 200, conjugate: bool = False, maxiter: Optional[int] = None) -> ngsolve.la.KrylovSpaceSolver\n\nInvoked with: <ngsolve.la.SparseMatrixd object at 0x117989c70>, <ngsolve.comp.MultiGridPreconditioner object at 0x11164b540>; kwargs: maxier=200",
     "output_type": "error",
     "traceback": [
      "\u001b[0;31m---------------------------------------------------------------------------\u001b[0m",
      "\u001b[0;31mTypeError\u001b[0m                                 Traceback (most recent call last)",
      "Cell \u001b[0;32mIn[10], line 2\u001b[0m\n\u001b[1;32m      1\u001b[0m \u001b[38;5;66;03m# Lösen\u001b[39;00m\n\u001b[0;32m----> 2\u001b[0m inv \u001b[38;5;241m=\u001b[39m \u001b[43mCGSolver\u001b[49m\u001b[43m(\u001b[49m\u001b[43ma\u001b[49m\u001b[38;5;241;43m.\u001b[39;49m\u001b[43mmat\u001b[49m\u001b[43m,\u001b[49m\u001b[43m \u001b[49m\u001b[43mpre\u001b[49m\u001b[38;5;241;43m.\u001b[39;49m\u001b[43mmat\u001b[49m\u001b[43m,\u001b[49m\u001b[43m \u001b[49m\u001b[43mmaxier\u001b[49m\u001b[38;5;241;43m=\u001b[39;49m\u001b[38;5;241;43m200\u001b[39;49m\u001b[43m)\u001b[49m\n\u001b[1;32m      3\u001b[0m \u001b[38;5;28;01mwith\u001b[39;00m TaskManager():\n\u001b[1;32m      4\u001b[0m     gfA\u001b[38;5;241m.\u001b[39mvec\u001b[38;5;241m.\u001b[39mdata \u001b[38;5;241m=\u001b[39m inv \u001b[38;5;241m*\u001b[39m f\u001b[38;5;241m.\u001b[39mvec\n",
      "\u001b[0;31mTypeError\u001b[0m: CGSolver(): incompatible function arguments. The following argument types are supported:\n    1. (mat: BaseMatrix, pre: BaseMatrix, complex: bool = False, printrates: bool = True, precision: float = 1e-08, maxsteps: int = 200, conjugate: bool = False, maxiter: Optional[int] = None) -> ngsolve.la.KrylovSpaceSolver\n\nInvoked with: <ngsolve.la.SparseMatrixd object at 0x117989c70>, <ngsolve.comp.MultiGridPreconditioner object at 0x11164b540>; kwargs: maxier=200"
     ]
    }
   ],
   "source": [
    "# Lösen\n",
    "inv = CGSolver(a.mat, pre.mat, maxier=200)\n",
    "with TaskManager():\n",
    "    gfA.vec.data = inv * f.vec\n",
    "\n",
    "# Visualisierung\n",
    "Draw(curl(gfA), mesh, \"MagneticField\")\n",
    "Draw(gfA, mesh, \"VectorPotential\")"
   ]
  }
 ],
 "metadata": {
  "kernelspec": {
   "display_name": ".venv",
   "language": "python",
   "name": "python3"
  },
  "language_info": {
   "codemirror_mode": {
    "name": "ipython",
    "version": 3
   },
   "file_extension": ".py",
   "mimetype": "text/x-python",
   "name": "python",
   "nbconvert_exporter": "python",
   "pygments_lexer": "ipython3",
   "version": "3.9.9"
  }
 },
 "nbformat": 4,
 "nbformat_minor": 2
}
