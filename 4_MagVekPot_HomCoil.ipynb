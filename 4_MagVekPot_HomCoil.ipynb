{
 "cells": [
  {
   "cell_type": "code",
   "execution_count": 1,
   "metadata": {},
   "outputs": [
    {
     "name": "stdout",
     "output_type": "stream",
     "text": [
      "optfile ./ng.opt does not exist - using default values\n",
      "togl-version : 2\n",
      "OCC module loaded\n",
      "loading ngsolve library\n",
      "NGSolve-6.2.2405\n",
      "Using Lapack\n",
      "Including sparse direct solver UMFPACK\n",
      "Running parallel using 14 thread(s)\n"
     ]
    },
    {
     "name": "stderr",
     "output_type": "stream",
     "text": [
      "2024-12-30 23:46:12.822 Python[35116:172504] +[IMKClient subclass]: chose IMKClient_Modern\n",
      "2024-12-30 23:46:12.822 Python[35116:172504] +[IMKInputSession subclass]: chose IMKInputSession_Modern\n"
     ]
    }
   ],
   "source": [
    "from ngsolve import *\n",
    "from ngsolve import Draw, curl, grad, krylovspace\n",
    "from netgen.occ import *\n",
    "from netgen.gui import *\n",
    "from coil_geometry import *\n",
    "import numpy as np "
   ]
  },
  {
   "cell_type": "code",
   "execution_count": 2,
   "metadata": {},
   "outputs": [],
   "source": [
    "nwindings = 6  # Number of windings\n",
    "wireradius = 0.001  # Radius of the wire\n",
    "coilradius = 0.01  # Radius of the coil\n",
    "\n",
    "# Geometrie laden\n",
    "geo,_ = create_homo_geometry(nwindings, wireradius, coilradius)"
   ]
  },
  {
   "cell_type": "code",
   "execution_count": 3,
   "metadata": {},
   "outputs": [],
   "source": [
    "Draw(geo)"
   ]
  },
  {
   "cell_type": "code",
   "execution_count": 4,
   "metadata": {},
   "outputs": [
    {
     "name": "stdout",
     "output_type": "stream",
     "text": [
      " Face 1 / 10 (parameter space projection)\n",
      " Face 2 / 10 (parameter space projection)\n",
      " Face 3 / 10 (parameter space projection)\n",
      " Face 4 / 10 (parameter space projection)\n",
      " Face 5 / 10 (parameter space projection)\n",
      " Face 6 / 10 (parameter space projection)\n",
      " Face 7 / 10 (parameter space projection)\n",
      " Face 8 / 10 (parameter space projection)\n",
      " Face 9 / 10 (parameter space projection)\n",
      " Face 10 / 10 (parameter space projection)\n",
      " Delaunay meshing\n",
      " Remove Illegal Elements\n",
      " Delaunay meshing\n",
      " start tetmeshing\n",
      " Success !\n",
      " Volume Optimization\n",
      " Curve elements, order = 1\n"
     ]
    },
    {
     "data": {
      "text/plain": [
       "<ngsolve.comp.Mesh at 0x1246c0ef0>"
      ]
     },
     "execution_count": 4,
     "metadata": {},
     "output_type": "execute_result"
    }
   ],
   "source": [
    "mesh = Mesh(\n",
    "    geo.GenerateMesh()\n",
    ")\n",
    "mesh.Curve(1) "
   ]
  },
  {
   "cell_type": "code",
   "execution_count": 5,
   "metadata": {},
   "outputs": [
    {
     "name": "stdout",
     "output_type": "stream",
     "text": [
      "Materialien im Mesh: ('coil', 'air')\n",
      "Randbedingungen im Mesh: ('default', 'default', 'default', 'default', 'outer', 'outer', 'outer', 'outer', 'outer', 'outer')\n"
     ]
    }
   ],
   "source": [
    "print(\"Materialien im Mesh:\", mesh.GetMaterials())\n",
    "print(\"Randbedingungen im Mesh:\", mesh.GetBoundaries())"
   ]
  },
  {
   "cell_type": "code",
   "execution_count": 6,
   "metadata": {},
   "outputs": [],
   "source": [
    "# Konstanten\n",
    "mu = 4 * pi * 1e-7      # Magnetische Feldkonstante (S.2)\n",
    "sigma_coil = 5.87e7     # Leitfähigkeit Kupfer (S.11)\n",
    "sigma_air = 0           # Leitfähigkeit Luft\n",
    "k = 0.1                 # Regularisierungfaktor\n",
    "i_c = 500               # Strom\n",
    "\n",
    "# Geometrische Parameter\n",
    "A_c = pi * wireradius**2  \n",
    "r = sqrt(x**2 + y**2 + z**2)\n",
    "\n",
    "# Stromdichte j_c gemäß Aufgabenstellung\n",
    "j_c = CoefficientFunction((\n",
    "    (nwindings * i_c / A_c) * y / r,\n",
    "    -(nwindings * i_c / A_c) * x / r,\n",
    "    0\n",
    "))"
   ]
  },
  {
   "cell_type": "code",
   "execution_count": 7,
   "metadata": {},
   "outputs": [
    {
     "name": "stdout",
     "output_type": "stream",
     "text": [
      "hcurl smoothingblocks, SmoothingType = 2\n"
     ]
    }
   ],
   "source": [
    "# H(curl)-Raum definieren\n",
    "order = 2\n",
    "V = HCurl(mesh, order=order-1, nograds=True, dirichlet=\"outer\")\n",
    "u, v = V.TnT()\n",
    "gfA = GridFunction(V)\n",
    "\n",
    "\n",
    "# Bilinearform und Linearform\n",
    "a = BilinearForm(V, symmetric=True)\n",
    "a += (1/mu) * InnerProduct(curl(u), curl(v)) * dx\n",
    "a += k * InnerProduct(u, v) * dx\n",
    "\n",
    "# Preconditioner\n",
    "pre = Preconditioner(a, \"multigrid\")\n",
    "\n",
    "# Linearform: Stromdichte\n",
    "f = LinearForm(V)\n",
    "f += InnerProduct(j_c, v) * dx(\"coil\")\n",
    "\n",
    "# Assemble\n",
    "with TaskManager():\n",
    "    a.Assemble()\n",
    "    f.Assemble()"
   ]
  },
  {
   "cell_type": "code",
   "execution_count": 8,
   "metadata": {},
   "outputs": [
    {
     "name": "stdout",
     "output_type": "stream",
     "text": [
      "Matrix size: 47895 x 47895\n",
      "Vector size: 47895\n",
      "Präkonditionierer-Matrixgröße: 47895 x 47895\n"
     ]
    }
   ],
   "source": [
    "# Grösse von Gleichungsystems Elemente überprüfen\n",
    "print(f\"Matrix size: {a.mat.height} x {a.mat.width}\")\n",
    "print(f\"Vector size: {f.vec.size}\")\n",
    "print(f\"Präkonditionierer-Matrixgröße: {pre.mat.height} x {pre.mat.width}\")"
   ]
  },
  {
   "cell_type": "code",
   "execution_count": 9,
   "metadata": {},
   "outputs": [
    {
     "name": "stdout",
     "output_type": "stream",
     "text": [
      "\u001b[2KCG iteration 1, residual = 1072.7075249396498     \n",
      "\u001b[2KCG iteration 2, residual = 4.04042686083724     \n",
      "\u001b[2KCG iteration 3, residual = 0.023169325996392782     \n",
      "\u001b[2KCG iteration 4, residual = 0.00017029861977906896     \n",
      "\u001b[2KCG iteration 5, residual = 1.5286487254315575e-06     \n",
      "\u001b[2KCG iteration 6, residual = 1.50984883099077e-08     \n",
      "\u001b[2KCG iteration 7, residual = 1.6580150577658249e-10     \n"
     ]
    }
   ],
   "source": [
    "# Lösen des Gleichungssystems mit CG-Verfahren und Präkonditionierer (krylovspace.CGSolver)\n",
    "inv = krylovspace.CGSolver(a.mat, pre.mat, tol=1e-12, printrates = True)\n",
    "\n",
    "with TaskManager():\n",
    "    gfA.vec.data = inv * f.vec\n",
    "\n",
    "# Visualisierung\n",
    "Draw(curl(gfA), mesh, \"MagneticField\")\n",
    "Draw(gfA, mesh, \"VectorPotential\", draw_surf=True, draw_vol=True)"
   ]
  },
  {
   "cell_type": "code",
   "execution_count": 10,
   "metadata": {},
   "outputs": [
    {
     "name": "stdout",
     "output_type": "stream",
     "text": [
      "Residual norm: 1345.1772467439348\n"
     ]
    }
   ],
   "source": [
    "# Calculate the residual manually\n",
    "residual_vec = f.vec - a.mat * gfA.vec\n",
    "residual_norm = residual_vec.Norm()\n",
    "print(f\"Residual norm: {residual_norm}\")"
   ]
  },
  {
   "cell_type": "code",
   "execution_count": 11,
   "metadata": {},
   "outputs": [],
   "source": [
    "B = curl(gfA) "
   ]
  },
  {
   "cell_type": "code",
   "execution_count": 12,
   "metadata": {},
   "outputs": [],
   "source": [
    "# Feldlinien to be done "
   ]
  }
 ],
 "metadata": {
  "kernelspec": {
   "display_name": ".venv",
   "language": "python",
   "name": "python3"
  },
  "language_info": {
   "codemirror_mode": {
    "name": "ipython",
    "version": 3
   },
   "file_extension": ".py",
   "mimetype": "text/x-python",
   "name": "python",
   "nbconvert_exporter": "python",
   "pygments_lexer": "ipython3",
   "version": "3.9.9"
  }
 },
 "nbformat": 4,
 "nbformat_minor": 2
}
